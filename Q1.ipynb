{
  "nbformat": 4,
  "nbformat_minor": 0,
  "metadata": {
    "colab": {
      "name": "Q1.ipynb",
      "provenance": [],
      "collapsed_sections": [],
      "mount_file_id": "1jSlSszL8_kQDU4FmTN2aoLv2u-uFStoW",
      "authorship_tag": "ABX9TyPUqwlKutuhIGafL13ZQcRl",
      "include_colab_link": true
    },
    "kernelspec": {
      "name": "python3",
      "display_name": "Python 3"
    },
    "language_info": {
      "name": "python"
    }
  },
  "cells": [
    {
      "cell_type": "markdown",
      "metadata": {
        "id": "view-in-github",
        "colab_type": "text"
      },
      "source": [
        "<a href=\"https://colab.research.google.com/github/jinquan122/Palm-oil-and-chemical-ingredient-analysis/blob/main/Q1.ipynb\" target=\"_parent\"><img src=\"https://colab.research.google.com/assets/colab-badge.svg\" alt=\"Open In Colab\"/></a>"
      ]
    },
    {
      "cell_type": "code",
      "metadata": {
        "id": "b89e-8V0DXrS",
        "colab": {
          "base_uri": "https://localhost:8080/"
        },
        "outputId": "1bcaa488-6688-42d7-c1f0-15871047f531"
      },
      "source": [
        "!pip install factor_analyzer\n",
        "!pip install --upgrade pingouin\n",
        "import pandas as pd\n",
        "from pandas import Series, DataFrame\n",
        "from factor_analyzer import FactorAnalyzer\n",
        "import matplotlib.pyplot as plt\n",
        "import numpy as np\n",
        "import pingouin as pg\n",
        "from statsmodels.stats.outliers_influence import variance_inflation_factor\n",
        "from scipy.stats import kurtosis\n",
        "from scipy.stats import skew\n",
        "from scipy import stats\n",
        "import seaborn as sns\n",
        "import scipy.stats as sc\n",
        "import statsmodels.graphics.gofplots as sm\n",
        "from factor_analyzer.factor_analyzer import calculate_kmo\n",
        "from sklearn.preprocessing import normalize\n",
        "import statsmodels.formula.api as smm\n",
        "import statsmodels.stats.multicomp as multi\n",
        "import scipy.cluster.hierarchy as shc\n",
        "from sklearn.cluster import AgglomerativeClustering\n",
        "%matplotlib inline"
      ],
      "execution_count": null,
      "outputs": [
        {
          "output_type": "stream",
          "text": [
            "Requirement already satisfied: factor_analyzer in /usr/local/lib/python3.7/dist-packages (0.3.2)\n",
            "Requirement already satisfied: pandas in /usr/local/lib/python3.7/dist-packages (from factor_analyzer) (1.1.5)\n",
            "Requirement already satisfied: scikit-learn in /usr/local/lib/python3.7/dist-packages (from factor_analyzer) (0.22.2.post1)\n",
            "Requirement already satisfied: scipy in /usr/local/lib/python3.7/dist-packages (from factor_analyzer) (1.4.1)\n",
            "Requirement already satisfied: numpy in /usr/local/lib/python3.7/dist-packages (from factor_analyzer) (1.19.5)\n",
            "Requirement already satisfied: python-dateutil>=2.7.3 in /usr/local/lib/python3.7/dist-packages (from pandas->factor_analyzer) (2.8.1)\n",
            "Requirement already satisfied: pytz>=2017.2 in /usr/local/lib/python3.7/dist-packages (from pandas->factor_analyzer) (2018.9)\n",
            "Requirement already satisfied: six>=1.5 in /usr/local/lib/python3.7/dist-packages (from python-dateutil>=2.7.3->pandas->factor_analyzer) (1.15.0)\n",
            "Requirement already satisfied: joblib>=0.11 in /usr/local/lib/python3.7/dist-packages (from scikit-learn->factor_analyzer) (1.0.1)\n",
            "Collecting pingouin\n",
            "  Downloading pingouin-0.3.12.tar.gz (205 kB)\n",
            "\u001b[K     |████████████████████████████████| 205 kB 8.7 MB/s \n",
            "\u001b[?25hRequirement already satisfied: numpy>=1.15 in /usr/local/lib/python3.7/dist-packages (from pingouin) (1.19.5)\n",
            "Requirement already satisfied: scipy>=1.3 in /usr/local/lib/python3.7/dist-packages (from pingouin) (1.4.1)\n",
            "Requirement already satisfied: pandas>=0.24 in /usr/local/lib/python3.7/dist-packages (from pingouin) (1.1.5)\n",
            "Requirement already satisfied: matplotlib>=3.0.2 in /usr/local/lib/python3.7/dist-packages (from pingouin) (3.2.2)\n",
            "Requirement already satisfied: seaborn>=0.9.0 in /usr/local/lib/python3.7/dist-packages (from pingouin) (0.11.1)\n",
            "Requirement already satisfied: statsmodels>=0.10.0 in /usr/local/lib/python3.7/dist-packages (from pingouin) (0.10.2)\n",
            "Requirement already satisfied: scikit-learn in /usr/local/lib/python3.7/dist-packages (from pingouin) (0.22.2.post1)\n",
            "Collecting pandas_flavor>=0.1.2\n",
            "  Downloading pandas_flavor-0.2.0-py2.py3-none-any.whl (6.6 kB)\n",
            "Collecting outdated\n",
            "  Downloading outdated-0.2.1-py3-none-any.whl (7.5 kB)\n",
            "Requirement already satisfied: tabulate in /usr/local/lib/python3.7/dist-packages (from pingouin) (0.8.9)\n",
            "Requirement already satisfied: pyparsing!=2.0.4,!=2.1.2,!=2.1.6,>=2.0.1 in /usr/local/lib/python3.7/dist-packages (from matplotlib>=3.0.2->pingouin) (2.4.7)\n",
            "Requirement already satisfied: kiwisolver>=1.0.1 in /usr/local/lib/python3.7/dist-packages (from matplotlib>=3.0.2->pingouin) (1.3.1)\n",
            "Requirement already satisfied: cycler>=0.10 in /usr/local/lib/python3.7/dist-packages (from matplotlib>=3.0.2->pingouin) (0.10.0)\n",
            "Requirement already satisfied: python-dateutil>=2.1 in /usr/local/lib/python3.7/dist-packages (from matplotlib>=3.0.2->pingouin) (2.8.1)\n",
            "Requirement already satisfied: six in /usr/local/lib/python3.7/dist-packages (from cycler>=0.10->matplotlib>=3.0.2->pingouin) (1.15.0)\n",
            "Requirement already satisfied: pytz>=2017.2 in /usr/local/lib/python3.7/dist-packages (from pandas>=0.24->pingouin) (2018.9)\n",
            "Requirement already satisfied: xarray in /usr/local/lib/python3.7/dist-packages (from pandas_flavor>=0.1.2->pingouin) (0.18.2)\n",
            "Requirement already satisfied: patsy>=0.4.0 in /usr/local/lib/python3.7/dist-packages (from statsmodels>=0.10.0->pingouin) (0.5.1)\n",
            "Requirement already satisfied: requests in /usr/local/lib/python3.7/dist-packages (from outdated->pingouin) (2.23.0)\n",
            "Collecting littleutils\n",
            "  Downloading littleutils-0.2.2.tar.gz (6.6 kB)\n",
            "Requirement already satisfied: idna<3,>=2.5 in /usr/local/lib/python3.7/dist-packages (from requests->outdated->pingouin) (2.10)\n",
            "Requirement already satisfied: urllib3!=1.25.0,!=1.25.1,<1.26,>=1.21.1 in /usr/local/lib/python3.7/dist-packages (from requests->outdated->pingouin) (1.24.3)\n",
            "Requirement already satisfied: certifi>=2017.4.17 in /usr/local/lib/python3.7/dist-packages (from requests->outdated->pingouin) (2021.5.30)\n",
            "Requirement already satisfied: chardet<4,>=3.0.2 in /usr/local/lib/python3.7/dist-packages (from requests->outdated->pingouin) (3.0.4)\n",
            "Requirement already satisfied: joblib>=0.11 in /usr/local/lib/python3.7/dist-packages (from scikit-learn->pingouin) (1.0.1)\n",
            "Requirement already satisfied: setuptools>=40.4 in /usr/local/lib/python3.7/dist-packages (from xarray->pandas_flavor>=0.1.2->pingouin) (57.2.0)\n",
            "Building wheels for collected packages: pingouin, littleutils\n",
            "  Building wheel for pingouin (setup.py) ... \u001b[?25l\u001b[?25hdone\n",
            "  Created wheel for pingouin: filename=pingouin-0.3.12-py3-none-any.whl size=204754 sha256=09d32d29fea7acf25828e2b104d0d5e8905ea12b41d60507e31c7ebcf75f0bc2\n",
            "  Stored in directory: /root/.cache/pip/wheels/5b/8a/ed/fafe2714a0f047d64fb582105b174b5e5218c82a0d787bbec4\n",
            "  Building wheel for littleutils (setup.py) ... \u001b[?25l\u001b[?25hdone\n",
            "  Created wheel for littleutils: filename=littleutils-0.2.2-py3-none-any.whl size=7048 sha256=e375b18ce50b9562f61c4c51c068a826e978a39761768d4b611023036c9428be\n",
            "  Stored in directory: /root/.cache/pip/wheels/d6/64/cd/32819b511a488e4993f2fab909a95330289c3f4e0f6ef4676d\n",
            "Successfully built pingouin littleutils\n",
            "Installing collected packages: littleutils, pandas-flavor, outdated, pingouin\n",
            "Successfully installed littleutils-0.2.2 outdated-0.2.1 pandas-flavor-0.2.0 pingouin-0.3.12\n"
          ],
          "name": "stdout"
        },
        {
          "output_type": "stream",
          "text": [
            "/usr/local/lib/python3.7/dist-packages/statsmodels/tools/_testing.py:19: FutureWarning: pandas.util.testing is deprecated. Use the functions in the public API at pandas.testing instead.\n",
            "  import pandas.util.testing as tm\n"
          ],
          "name": "stderr"
        }
      ]
    },
    {
      "cell_type": "code",
      "metadata": {
        "id": "D0w-VkJcCvdI"
      },
      "source": [
        "df = pd.read_csv(\"/content/drive/MyDrive/ingredient.csv\")"
      ],
      "execution_count": null,
      "outputs": []
    },
    {
      "cell_type": "code",
      "metadata": {
        "colab": {
          "base_uri": "https://localhost:8080/",
          "height": 419
        },
        "id": "jWUBKx_uHzRi",
        "outputId": "d09383bb-e4bd-4ba2-d208-ac7ac6690ed4"
      },
      "source": [
        "df"
      ],
      "execution_count": null,
      "outputs": [
        {
          "output_type": "execute_result",
          "data": {
            "text/html": [
              "<div>\n",
              "<style scoped>\n",
              "    .dataframe tbody tr th:only-of-type {\n",
              "        vertical-align: middle;\n",
              "    }\n",
              "\n",
              "    .dataframe tbody tr th {\n",
              "        vertical-align: top;\n",
              "    }\n",
              "\n",
              "    .dataframe thead th {\n",
              "        text-align: right;\n",
              "    }\n",
              "</style>\n",
              "<table border=\"1\" class=\"dataframe\">\n",
              "  <thead>\n",
              "    <tr style=\"text-align: right;\">\n",
              "      <th></th>\n",
              "      <th>a</th>\n",
              "      <th>b</th>\n",
              "      <th>c</th>\n",
              "      <th>d</th>\n",
              "      <th>e</th>\n",
              "      <th>f</th>\n",
              "      <th>g</th>\n",
              "      <th>h</th>\n",
              "      <th>i</th>\n",
              "    </tr>\n",
              "  </thead>\n",
              "  <tbody>\n",
              "    <tr>\n",
              "      <th>0</th>\n",
              "      <td>1.51735</td>\n",
              "      <td>13.02</td>\n",
              "      <td>3.54</td>\n",
              "      <td>1.69</td>\n",
              "      <td>72.73</td>\n",
              "      <td>0.54</td>\n",
              "      <td>8.44</td>\n",
              "      <td>0.00</td>\n",
              "      <td>0.07</td>\n",
              "    </tr>\n",
              "    <tr>\n",
              "      <th>1</th>\n",
              "      <td>1.53125</td>\n",
              "      <td>10.73</td>\n",
              "      <td>0.00</td>\n",
              "      <td>2.10</td>\n",
              "      <td>69.81</td>\n",
              "      <td>0.58</td>\n",
              "      <td>13.30</td>\n",
              "      <td>3.15</td>\n",
              "      <td>0.28</td>\n",
              "    </tr>\n",
              "    <tr>\n",
              "      <th>2</th>\n",
              "      <td>1.52300</td>\n",
              "      <td>13.31</td>\n",
              "      <td>3.58</td>\n",
              "      <td>0.82</td>\n",
              "      <td>71.99</td>\n",
              "      <td>0.12</td>\n",
              "      <td>10.17</td>\n",
              "      <td>0.00</td>\n",
              "      <td>0.03</td>\n",
              "    </tr>\n",
              "    <tr>\n",
              "      <th>3</th>\n",
              "      <td>1.51768</td>\n",
              "      <td>12.56</td>\n",
              "      <td>3.52</td>\n",
              "      <td>1.43</td>\n",
              "      <td>73.15</td>\n",
              "      <td>0.57</td>\n",
              "      <td>8.54</td>\n",
              "      <td>0.00</td>\n",
              "      <td>0.00</td>\n",
              "    </tr>\n",
              "    <tr>\n",
              "      <th>4</th>\n",
              "      <td>1.51813</td>\n",
              "      <td>13.43</td>\n",
              "      <td>3.98</td>\n",
              "      <td>1.18</td>\n",
              "      <td>72.49</td>\n",
              "      <td>0.58</td>\n",
              "      <td>8.15</td>\n",
              "      <td>0.00</td>\n",
              "      <td>0.00</td>\n",
              "    </tr>\n",
              "    <tr>\n",
              "      <th>...</th>\n",
              "      <td>...</td>\n",
              "      <td>...</td>\n",
              "      <td>...</td>\n",
              "      <td>...</td>\n",
              "      <td>...</td>\n",
              "      <td>...</td>\n",
              "      <td>...</td>\n",
              "      <td>...</td>\n",
              "      <td>...</td>\n",
              "    </tr>\n",
              "    <tr>\n",
              "      <th>209</th>\n",
              "      <td>1.52152</td>\n",
              "      <td>13.12</td>\n",
              "      <td>3.58</td>\n",
              "      <td>0.90</td>\n",
              "      <td>72.20</td>\n",
              "      <td>0.23</td>\n",
              "      <td>9.82</td>\n",
              "      <td>0.00</td>\n",
              "      <td>0.16</td>\n",
              "    </tr>\n",
              "    <tr>\n",
              "      <th>210</th>\n",
              "      <td>1.51848</td>\n",
              "      <td>13.64</td>\n",
              "      <td>3.87</td>\n",
              "      <td>1.27</td>\n",
              "      <td>71.96</td>\n",
              "      <td>0.54</td>\n",
              "      <td>8.32</td>\n",
              "      <td>0.00</td>\n",
              "      <td>0.32</td>\n",
              "    </tr>\n",
              "    <tr>\n",
              "      <th>211</th>\n",
              "      <td>1.51784</td>\n",
              "      <td>12.68</td>\n",
              "      <td>3.67</td>\n",
              "      <td>1.16</td>\n",
              "      <td>73.11</td>\n",
              "      <td>0.61</td>\n",
              "      <td>8.70</td>\n",
              "      <td>0.00</td>\n",
              "      <td>0.00</td>\n",
              "    </tr>\n",
              "    <tr>\n",
              "      <th>212</th>\n",
              "      <td>1.51841</td>\n",
              "      <td>12.93</td>\n",
              "      <td>3.74</td>\n",
              "      <td>1.11</td>\n",
              "      <td>72.28</td>\n",
              "      <td>0.64</td>\n",
              "      <td>8.96</td>\n",
              "      <td>0.00</td>\n",
              "      <td>0.22</td>\n",
              "    </tr>\n",
              "    <tr>\n",
              "      <th>213</th>\n",
              "      <td>1.51321</td>\n",
              "      <td>13.00</td>\n",
              "      <td>0.00</td>\n",
              "      <td>3.02</td>\n",
              "      <td>70.70</td>\n",
              "      <td>6.21</td>\n",
              "      <td>6.93</td>\n",
              "      <td>0.00</td>\n",
              "      <td>0.00</td>\n",
              "    </tr>\n",
              "  </tbody>\n",
              "</table>\n",
              "<p>214 rows × 9 columns</p>\n",
              "</div>"
            ],
            "text/plain": [
              "           a      b     c     d      e     f      g     h     i\n",
              "0    1.51735  13.02  3.54  1.69  72.73  0.54   8.44  0.00  0.07\n",
              "1    1.53125  10.73  0.00  2.10  69.81  0.58  13.30  3.15  0.28\n",
              "2    1.52300  13.31  3.58  0.82  71.99  0.12  10.17  0.00  0.03\n",
              "3    1.51768  12.56  3.52  1.43  73.15  0.57   8.54  0.00  0.00\n",
              "4    1.51813  13.43  3.98  1.18  72.49  0.58   8.15  0.00  0.00\n",
              "..       ...    ...   ...   ...    ...   ...    ...   ...   ...\n",
              "209  1.52152  13.12  3.58  0.90  72.20  0.23   9.82  0.00  0.16\n",
              "210  1.51848  13.64  3.87  1.27  71.96  0.54   8.32  0.00  0.32\n",
              "211  1.51784  12.68  3.67  1.16  73.11  0.61   8.70  0.00  0.00\n",
              "212  1.51841  12.93  3.74  1.11  72.28  0.64   8.96  0.00  0.22\n",
              "213  1.51321  13.00  0.00  3.02  70.70  6.21   6.93  0.00  0.00\n",
              "\n",
              "[214 rows x 9 columns]"
            ]
          },
          "metadata": {
            "tags": []
          },
          "execution_count": 4
        }
      ]
    },
    {
      "cell_type": "code",
      "metadata": {
        "colab": {
          "base_uri": "https://localhost:8080/"
        },
        "id": "LONG9SQj5Bxf",
        "outputId": "6f7611be-8e26-4e66-fb8f-e51c558137e2"
      },
      "source": [
        "df.dtypes"
      ],
      "execution_count": null,
      "outputs": [
        {
          "output_type": "execute_result",
          "data": {
            "text/plain": [
              "a    float64\n",
              "b    float64\n",
              "c    float64\n",
              "d    float64\n",
              "e    float64\n",
              "f    float64\n",
              "g    float64\n",
              "h    float64\n",
              "i    float64\n",
              "dtype: object"
            ]
          },
          "metadata": {
            "tags": []
          },
          "execution_count": 5
        }
      ]
    },
    {
      "cell_type": "code",
      "metadata": {
        "colab": {
          "base_uri": "https://localhost:8080/",
          "height": 297
        },
        "id": "ri1B5CQV3yj9",
        "outputId": "aa8c3751-820d-44bf-a471-a793d2e62cc6"
      },
      "source": [
        "df.describe()"
      ],
      "execution_count": null,
      "outputs": [
        {
          "output_type": "execute_result",
          "data": {
            "text/html": [
              "<div>\n",
              "<style scoped>\n",
              "    .dataframe tbody tr th:only-of-type {\n",
              "        vertical-align: middle;\n",
              "    }\n",
              "\n",
              "    .dataframe tbody tr th {\n",
              "        vertical-align: top;\n",
              "    }\n",
              "\n",
              "    .dataframe thead th {\n",
              "        text-align: right;\n",
              "    }\n",
              "</style>\n",
              "<table border=\"1\" class=\"dataframe\">\n",
              "  <thead>\n",
              "    <tr style=\"text-align: right;\">\n",
              "      <th></th>\n",
              "      <th>a</th>\n",
              "      <th>b</th>\n",
              "      <th>c</th>\n",
              "      <th>d</th>\n",
              "      <th>e</th>\n",
              "      <th>f</th>\n",
              "      <th>g</th>\n",
              "      <th>h</th>\n",
              "      <th>i</th>\n",
              "    </tr>\n",
              "  </thead>\n",
              "  <tbody>\n",
              "    <tr>\n",
              "      <th>count</th>\n",
              "      <td>214.000000</td>\n",
              "      <td>214.000000</td>\n",
              "      <td>214.000000</td>\n",
              "      <td>214.000000</td>\n",
              "      <td>214.000000</td>\n",
              "      <td>214.000000</td>\n",
              "      <td>214.000000</td>\n",
              "      <td>214.000000</td>\n",
              "      <td>214.000000</td>\n",
              "    </tr>\n",
              "    <tr>\n",
              "      <th>mean</th>\n",
              "      <td>1.518365</td>\n",
              "      <td>13.407850</td>\n",
              "      <td>2.684533</td>\n",
              "      <td>1.444907</td>\n",
              "      <td>72.650935</td>\n",
              "      <td>0.497056</td>\n",
              "      <td>8.956963</td>\n",
              "      <td>0.175047</td>\n",
              "      <td>0.057009</td>\n",
              "    </tr>\n",
              "    <tr>\n",
              "      <th>std</th>\n",
              "      <td>0.003037</td>\n",
              "      <td>0.816604</td>\n",
              "      <td>1.442408</td>\n",
              "      <td>0.499270</td>\n",
              "      <td>0.774546</td>\n",
              "      <td>0.652192</td>\n",
              "      <td>1.423153</td>\n",
              "      <td>0.497219</td>\n",
              "      <td>0.097439</td>\n",
              "    </tr>\n",
              "    <tr>\n",
              "      <th>min</th>\n",
              "      <td>1.511150</td>\n",
              "      <td>10.730000</td>\n",
              "      <td>0.000000</td>\n",
              "      <td>0.290000</td>\n",
              "      <td>69.810000</td>\n",
              "      <td>0.000000</td>\n",
              "      <td>5.430000</td>\n",
              "      <td>0.000000</td>\n",
              "      <td>0.000000</td>\n",
              "    </tr>\n",
              "    <tr>\n",
              "      <th>25%</th>\n",
              "      <td>1.516523</td>\n",
              "      <td>12.907500</td>\n",
              "      <td>2.115000</td>\n",
              "      <td>1.190000</td>\n",
              "      <td>72.280000</td>\n",
              "      <td>0.122500</td>\n",
              "      <td>8.240000</td>\n",
              "      <td>0.000000</td>\n",
              "      <td>0.000000</td>\n",
              "    </tr>\n",
              "    <tr>\n",
              "      <th>50%</th>\n",
              "      <td>1.517680</td>\n",
              "      <td>13.300000</td>\n",
              "      <td>3.480000</td>\n",
              "      <td>1.360000</td>\n",
              "      <td>72.790000</td>\n",
              "      <td>0.555000</td>\n",
              "      <td>8.600000</td>\n",
              "      <td>0.000000</td>\n",
              "      <td>0.000000</td>\n",
              "    </tr>\n",
              "    <tr>\n",
              "      <th>75%</th>\n",
              "      <td>1.519157</td>\n",
              "      <td>13.825000</td>\n",
              "      <td>3.600000</td>\n",
              "      <td>1.630000</td>\n",
              "      <td>73.087500</td>\n",
              "      <td>0.610000</td>\n",
              "      <td>9.172500</td>\n",
              "      <td>0.000000</td>\n",
              "      <td>0.100000</td>\n",
              "    </tr>\n",
              "    <tr>\n",
              "      <th>max</th>\n",
              "      <td>1.533930</td>\n",
              "      <td>17.380000</td>\n",
              "      <td>4.490000</td>\n",
              "      <td>3.500000</td>\n",
              "      <td>75.410000</td>\n",
              "      <td>6.210000</td>\n",
              "      <td>16.190000</td>\n",
              "      <td>3.150000</td>\n",
              "      <td>0.510000</td>\n",
              "    </tr>\n",
              "  </tbody>\n",
              "</table>\n",
              "</div>"
            ],
            "text/plain": [
              "                a           b           c  ...           g           h           i\n",
              "count  214.000000  214.000000  214.000000  ...  214.000000  214.000000  214.000000\n",
              "mean     1.518365   13.407850    2.684533  ...    8.956963    0.175047    0.057009\n",
              "std      0.003037    0.816604    1.442408  ...    1.423153    0.497219    0.097439\n",
              "min      1.511150   10.730000    0.000000  ...    5.430000    0.000000    0.000000\n",
              "25%      1.516523   12.907500    2.115000  ...    8.240000    0.000000    0.000000\n",
              "50%      1.517680   13.300000    3.480000  ...    8.600000    0.000000    0.000000\n",
              "75%      1.519157   13.825000    3.600000  ...    9.172500    0.000000    0.100000\n",
              "max      1.533930   17.380000    4.490000  ...   16.190000    3.150000    0.510000\n",
              "\n",
              "[8 rows x 9 columns]"
            ]
          },
          "metadata": {
            "tags": []
          },
          "execution_count": 6
        }
      ]
    },
    {
      "cell_type": "code",
      "metadata": {
        "colab": {
          "base_uri": "https://localhost:8080/"
        },
        "id": "ydxZu5SPIDXD",
        "outputId": "40fe6044-0826-4425-9c7a-695751c6a9a2"
      },
      "source": [
        "#discover number of zero appeared in h and i\n",
        "a =0\n",
        "for i in df.h:\n",
        "  if (i == 0):\n",
        "    a= a+1\n",
        "\n",
        "b =0\n",
        "for i in df.i:\n",
        "  if (i == 0):\n",
        "    b= b+1\n",
        "\n",
        "print(\"number of zero in h:\", a)\n",
        "print(\"number of zero in i:\", b)"
      ],
      "execution_count": null,
      "outputs": [
        {
          "output_type": "stream",
          "text": [
            "number of zero in h: 176\n",
            "number of zero in i: 144\n"
          ],
          "name": "stdout"
        }
      ]
    },
    {
      "cell_type": "code",
      "metadata": {
        "colab": {
          "base_uri": "https://localhost:8080/"
        },
        "id": "-k22j5vKEhWM",
        "outputId": "81486de9-1a53-4ce7-a617-b98d4801ae7a"
      },
      "source": [
        "#checking the missing value\n",
        "df.isna().sum()"
      ],
      "execution_count": null,
      "outputs": [
        {
          "output_type": "execute_result",
          "data": {
            "text/plain": [
              "a    0\n",
              "b    0\n",
              "c    0\n",
              "d    0\n",
              "e    0\n",
              "f    0\n",
              "g    0\n",
              "h    0\n",
              "i    0\n",
              "dtype: int64"
            ]
          },
          "metadata": {
            "tags": []
          },
          "execution_count": 8
        }
      ]
    },
    {
      "cell_type": "code",
      "metadata": {
        "colab": {
          "base_uri": "https://localhost:8080/",
          "height": 328
        },
        "id": "0xDkf5hGMNCQ",
        "outputId": "5531edce-67d4-4a18-cc1a-2ca9c36b3877"
      },
      "source": [
        "df.corr()"
      ],
      "execution_count": null,
      "outputs": [
        {
          "output_type": "execute_result",
          "data": {
            "text/html": [
              "<div>\n",
              "<style scoped>\n",
              "    .dataframe tbody tr th:only-of-type {\n",
              "        vertical-align: middle;\n",
              "    }\n",
              "\n",
              "    .dataframe tbody tr th {\n",
              "        vertical-align: top;\n",
              "    }\n",
              "\n",
              "    .dataframe thead th {\n",
              "        text-align: right;\n",
              "    }\n",
              "</style>\n",
              "<table border=\"1\" class=\"dataframe\">\n",
              "  <thead>\n",
              "    <tr style=\"text-align: right;\">\n",
              "      <th></th>\n",
              "      <th>a</th>\n",
              "      <th>b</th>\n",
              "      <th>c</th>\n",
              "      <th>d</th>\n",
              "      <th>e</th>\n",
              "      <th>f</th>\n",
              "      <th>g</th>\n",
              "      <th>h</th>\n",
              "      <th>i</th>\n",
              "    </tr>\n",
              "  </thead>\n",
              "  <tbody>\n",
              "    <tr>\n",
              "      <th>a</th>\n",
              "      <td>1.000000</td>\n",
              "      <td>-0.191885</td>\n",
              "      <td>-0.122274</td>\n",
              "      <td>-0.407326</td>\n",
              "      <td>-0.542052</td>\n",
              "      <td>-0.289833</td>\n",
              "      <td>0.810403</td>\n",
              "      <td>-0.000386</td>\n",
              "      <td>0.143010</td>\n",
              "    </tr>\n",
              "    <tr>\n",
              "      <th>b</th>\n",
              "      <td>-0.191885</td>\n",
              "      <td>1.000000</td>\n",
              "      <td>-0.273732</td>\n",
              "      <td>0.156794</td>\n",
              "      <td>-0.069809</td>\n",
              "      <td>-0.266087</td>\n",
              "      <td>-0.275442</td>\n",
              "      <td>0.326603</td>\n",
              "      <td>-0.241346</td>\n",
              "    </tr>\n",
              "    <tr>\n",
              "      <th>c</th>\n",
              "      <td>-0.122274</td>\n",
              "      <td>-0.273732</td>\n",
              "      <td>1.000000</td>\n",
              "      <td>-0.481799</td>\n",
              "      <td>-0.165927</td>\n",
              "      <td>0.005396</td>\n",
              "      <td>-0.443750</td>\n",
              "      <td>-0.492262</td>\n",
              "      <td>0.083060</td>\n",
              "    </tr>\n",
              "    <tr>\n",
              "      <th>d</th>\n",
              "      <td>-0.407326</td>\n",
              "      <td>0.156794</td>\n",
              "      <td>-0.481799</td>\n",
              "      <td>1.000000</td>\n",
              "      <td>-0.005524</td>\n",
              "      <td>0.325958</td>\n",
              "      <td>-0.259592</td>\n",
              "      <td>0.479404</td>\n",
              "      <td>-0.074402</td>\n",
              "    </tr>\n",
              "    <tr>\n",
              "      <th>e</th>\n",
              "      <td>-0.542052</td>\n",
              "      <td>-0.069809</td>\n",
              "      <td>-0.165927</td>\n",
              "      <td>-0.005524</td>\n",
              "      <td>1.000000</td>\n",
              "      <td>-0.193331</td>\n",
              "      <td>-0.208732</td>\n",
              "      <td>-0.102151</td>\n",
              "      <td>-0.094201</td>\n",
              "    </tr>\n",
              "    <tr>\n",
              "      <th>f</th>\n",
              "      <td>-0.289833</td>\n",
              "      <td>-0.266087</td>\n",
              "      <td>0.005396</td>\n",
              "      <td>0.325958</td>\n",
              "      <td>-0.193331</td>\n",
              "      <td>1.000000</td>\n",
              "      <td>-0.317836</td>\n",
              "      <td>-0.042618</td>\n",
              "      <td>-0.007719</td>\n",
              "    </tr>\n",
              "    <tr>\n",
              "      <th>g</th>\n",
              "      <td>0.810403</td>\n",
              "      <td>-0.275442</td>\n",
              "      <td>-0.443750</td>\n",
              "      <td>-0.259592</td>\n",
              "      <td>-0.208732</td>\n",
              "      <td>-0.317836</td>\n",
              "      <td>1.000000</td>\n",
              "      <td>-0.112841</td>\n",
              "      <td>0.124968</td>\n",
              "    </tr>\n",
              "    <tr>\n",
              "      <th>h</th>\n",
              "      <td>-0.000386</td>\n",
              "      <td>0.326603</td>\n",
              "      <td>-0.492262</td>\n",
              "      <td>0.479404</td>\n",
              "      <td>-0.102151</td>\n",
              "      <td>-0.042618</td>\n",
              "      <td>-0.112841</td>\n",
              "      <td>1.000000</td>\n",
              "      <td>-0.058692</td>\n",
              "    </tr>\n",
              "    <tr>\n",
              "      <th>i</th>\n",
              "      <td>0.143010</td>\n",
              "      <td>-0.241346</td>\n",
              "      <td>0.083060</td>\n",
              "      <td>-0.074402</td>\n",
              "      <td>-0.094201</td>\n",
              "      <td>-0.007719</td>\n",
              "      <td>0.124968</td>\n",
              "      <td>-0.058692</td>\n",
              "      <td>1.000000</td>\n",
              "    </tr>\n",
              "  </tbody>\n",
              "</table>\n",
              "</div>"
            ],
            "text/plain": [
              "          a         b         c  ...         g         h         i\n",
              "a  1.000000 -0.191885 -0.122274  ...  0.810403 -0.000386  0.143010\n",
              "b -0.191885  1.000000 -0.273732  ... -0.275442  0.326603 -0.241346\n",
              "c -0.122274 -0.273732  1.000000  ... -0.443750 -0.492262  0.083060\n",
              "d -0.407326  0.156794 -0.481799  ... -0.259592  0.479404 -0.074402\n",
              "e -0.542052 -0.069809 -0.165927  ... -0.208732 -0.102151 -0.094201\n",
              "f -0.289833 -0.266087  0.005396  ... -0.317836 -0.042618 -0.007719\n",
              "g  0.810403 -0.275442 -0.443750  ...  1.000000 -0.112841  0.124968\n",
              "h -0.000386  0.326603 -0.492262  ... -0.112841  1.000000 -0.058692\n",
              "i  0.143010 -0.241346  0.083060  ...  0.124968 -0.058692  1.000000\n",
              "\n",
              "[9 rows x 9 columns]"
            ]
          },
          "metadata": {
            "tags": []
          },
          "execution_count": 9
        }
      ]
    },
    {
      "cell_type": "code",
      "metadata": {
        "colab": {
          "base_uri": "https://localhost:8080/",
          "height": 328
        },
        "id": "Il7eyadAQ88k",
        "outputId": "d60ca949-f54b-4a49-f1a1-6aa26510cad5"
      },
      "source": [
        "#show the p-value and correlation between the varaibles\n",
        "df.rcorr(stars=False)"
      ],
      "execution_count": null,
      "outputs": [
        {
          "output_type": "execute_result",
          "data": {
            "text/html": [
              "<div>\n",
              "<style scoped>\n",
              "    .dataframe tbody tr th:only-of-type {\n",
              "        vertical-align: middle;\n",
              "    }\n",
              "\n",
              "    .dataframe tbody tr th {\n",
              "        vertical-align: top;\n",
              "    }\n",
              "\n",
              "    .dataframe thead th {\n",
              "        text-align: right;\n",
              "    }\n",
              "</style>\n",
              "<table border=\"1\" class=\"dataframe\">\n",
              "  <thead>\n",
              "    <tr style=\"text-align: right;\">\n",
              "      <th></th>\n",
              "      <th>a</th>\n",
              "      <th>b</th>\n",
              "      <th>c</th>\n",
              "      <th>d</th>\n",
              "      <th>e</th>\n",
              "      <th>f</th>\n",
              "      <th>g</th>\n",
              "      <th>h</th>\n",
              "      <th>i</th>\n",
              "    </tr>\n",
              "  </thead>\n",
              "  <tbody>\n",
              "    <tr>\n",
              "      <th>a</th>\n",
              "      <td>-</td>\n",
              "      <td>0.005</td>\n",
              "      <td>0.074</td>\n",
              "      <td>0.000</td>\n",
              "      <td>0.000</td>\n",
              "      <td>0.000</td>\n",
              "      <td>0.000</td>\n",
              "      <td>0.996</td>\n",
              "      <td>0.037</td>\n",
              "    </tr>\n",
              "    <tr>\n",
              "      <th>b</th>\n",
              "      <td>-0.192</td>\n",
              "      <td>-</td>\n",
              "      <td>0.000</td>\n",
              "      <td>0.022</td>\n",
              "      <td>0.309</td>\n",
              "      <td>0.000</td>\n",
              "      <td>0.000</td>\n",
              "      <td>0.000</td>\n",
              "      <td>0.000</td>\n",
              "    </tr>\n",
              "    <tr>\n",
              "      <th>c</th>\n",
              "      <td>-0.122</td>\n",
              "      <td>-0.274</td>\n",
              "      <td>-</td>\n",
              "      <td>0.000</td>\n",
              "      <td>0.015</td>\n",
              "      <td>0.937</td>\n",
              "      <td>0.000</td>\n",
              "      <td>0.000</td>\n",
              "      <td>0.226</td>\n",
              "    </tr>\n",
              "    <tr>\n",
              "      <th>d</th>\n",
              "      <td>-0.407</td>\n",
              "      <td>0.157</td>\n",
              "      <td>-0.482</td>\n",
              "      <td>-</td>\n",
              "      <td>0.936</td>\n",
              "      <td>0.000</td>\n",
              "      <td>0.000</td>\n",
              "      <td>0.000</td>\n",
              "      <td>0.279</td>\n",
              "    </tr>\n",
              "    <tr>\n",
              "      <th>e</th>\n",
              "      <td>-0.542</td>\n",
              "      <td>-0.07</td>\n",
              "      <td>-0.166</td>\n",
              "      <td>-0.006</td>\n",
              "      <td>-</td>\n",
              "      <td>0.005</td>\n",
              "      <td>0.002</td>\n",
              "      <td>0.136</td>\n",
              "      <td>0.17</td>\n",
              "    </tr>\n",
              "    <tr>\n",
              "      <th>f</th>\n",
              "      <td>-0.29</td>\n",
              "      <td>-0.266</td>\n",
              "      <td>0.005</td>\n",
              "      <td>0.326</td>\n",
              "      <td>-0.193</td>\n",
              "      <td>-</td>\n",
              "      <td>0.000</td>\n",
              "      <td>0.535</td>\n",
              "      <td>0.911</td>\n",
              "    </tr>\n",
              "    <tr>\n",
              "      <th>g</th>\n",
              "      <td>0.81</td>\n",
              "      <td>-0.275</td>\n",
              "      <td>-0.444</td>\n",
              "      <td>-0.26</td>\n",
              "      <td>-0.209</td>\n",
              "      <td>-0.318</td>\n",
              "      <td>-</td>\n",
              "      <td>0.1</td>\n",
              "      <td>0.068</td>\n",
              "    </tr>\n",
              "    <tr>\n",
              "      <th>h</th>\n",
              "      <td>-0.0</td>\n",
              "      <td>0.327</td>\n",
              "      <td>-0.492</td>\n",
              "      <td>0.479</td>\n",
              "      <td>-0.102</td>\n",
              "      <td>-0.043</td>\n",
              "      <td>-0.113</td>\n",
              "      <td>-</td>\n",
              "      <td>0.393</td>\n",
              "    </tr>\n",
              "    <tr>\n",
              "      <th>i</th>\n",
              "      <td>0.143</td>\n",
              "      <td>-0.241</td>\n",
              "      <td>0.083</td>\n",
              "      <td>-0.074</td>\n",
              "      <td>-0.094</td>\n",
              "      <td>-0.008</td>\n",
              "      <td>0.125</td>\n",
              "      <td>-0.059</td>\n",
              "      <td>-</td>\n",
              "    </tr>\n",
              "  </tbody>\n",
              "</table>\n",
              "</div>"
            ],
            "text/plain": [
              "        a       b       c       d       e       f       g       h      i\n",
              "a       -   0.005   0.074   0.000   0.000   0.000   0.000   0.996  0.037\n",
              "b  -0.192       -   0.000   0.022   0.309   0.000   0.000   0.000  0.000\n",
              "c  -0.122  -0.274       -   0.000   0.015   0.937   0.000   0.000  0.226\n",
              "d  -0.407   0.157  -0.482       -   0.936   0.000   0.000   0.000  0.279\n",
              "e  -0.542   -0.07  -0.166  -0.006       -   0.005   0.002   0.136   0.17\n",
              "f   -0.29  -0.266   0.005   0.326  -0.193       -   0.000   0.535  0.911\n",
              "g    0.81  -0.275  -0.444   -0.26  -0.209  -0.318       -     0.1  0.068\n",
              "h    -0.0   0.327  -0.492   0.479  -0.102  -0.043  -0.113       -  0.393\n",
              "i   0.143  -0.241   0.083  -0.074  -0.094  -0.008   0.125  -0.059      -"
            ]
          },
          "metadata": {
            "tags": []
          },
          "execution_count": 11
        }
      ]
    },
    {
      "cell_type": "code",
      "metadata": {
        "colab": {
          "base_uri": "https://localhost:8080/",
          "height": 328
        },
        "id": "ov5MunWsRUIP",
        "outputId": "5ee472c4-d40a-4e13-ba1c-b4f5c370d790"
      },
      "source": [
        "df.rcorr()"
      ],
      "execution_count": null,
      "outputs": [
        {
          "output_type": "execute_result",
          "data": {
            "text/html": [
              "<div>\n",
              "<style scoped>\n",
              "    .dataframe tbody tr th:only-of-type {\n",
              "        vertical-align: middle;\n",
              "    }\n",
              "\n",
              "    .dataframe tbody tr th {\n",
              "        vertical-align: top;\n",
              "    }\n",
              "\n",
              "    .dataframe thead th {\n",
              "        text-align: right;\n",
              "    }\n",
              "</style>\n",
              "<table border=\"1\" class=\"dataframe\">\n",
              "  <thead>\n",
              "    <tr style=\"text-align: right;\">\n",
              "      <th></th>\n",
              "      <th>a</th>\n",
              "      <th>b</th>\n",
              "      <th>c</th>\n",
              "      <th>d</th>\n",
              "      <th>e</th>\n",
              "      <th>f</th>\n",
              "      <th>g</th>\n",
              "      <th>h</th>\n",
              "      <th>i</th>\n",
              "    </tr>\n",
              "  </thead>\n",
              "  <tbody>\n",
              "    <tr>\n",
              "      <th>a</th>\n",
              "      <td>-</td>\n",
              "      <td>**</td>\n",
              "      <td></td>\n",
              "      <td>***</td>\n",
              "      <td>***</td>\n",
              "      <td>***</td>\n",
              "      <td>***</td>\n",
              "      <td></td>\n",
              "      <td>*</td>\n",
              "    </tr>\n",
              "    <tr>\n",
              "      <th>b</th>\n",
              "      <td>-0.192</td>\n",
              "      <td>-</td>\n",
              "      <td>***</td>\n",
              "      <td>*</td>\n",
              "      <td></td>\n",
              "      <td>***</td>\n",
              "      <td>***</td>\n",
              "      <td>***</td>\n",
              "      <td>***</td>\n",
              "    </tr>\n",
              "    <tr>\n",
              "      <th>c</th>\n",
              "      <td>-0.122</td>\n",
              "      <td>-0.274</td>\n",
              "      <td>-</td>\n",
              "      <td>***</td>\n",
              "      <td>*</td>\n",
              "      <td></td>\n",
              "      <td>***</td>\n",
              "      <td>***</td>\n",
              "      <td></td>\n",
              "    </tr>\n",
              "    <tr>\n",
              "      <th>d</th>\n",
              "      <td>-0.407</td>\n",
              "      <td>0.157</td>\n",
              "      <td>-0.482</td>\n",
              "      <td>-</td>\n",
              "      <td></td>\n",
              "      <td>***</td>\n",
              "      <td>***</td>\n",
              "      <td>***</td>\n",
              "      <td></td>\n",
              "    </tr>\n",
              "    <tr>\n",
              "      <th>e</th>\n",
              "      <td>-0.542</td>\n",
              "      <td>-0.07</td>\n",
              "      <td>-0.166</td>\n",
              "      <td>-0.006</td>\n",
              "      <td>-</td>\n",
              "      <td>**</td>\n",
              "      <td>**</td>\n",
              "      <td></td>\n",
              "      <td></td>\n",
              "    </tr>\n",
              "    <tr>\n",
              "      <th>f</th>\n",
              "      <td>-0.29</td>\n",
              "      <td>-0.266</td>\n",
              "      <td>0.005</td>\n",
              "      <td>0.326</td>\n",
              "      <td>-0.193</td>\n",
              "      <td>-</td>\n",
              "      <td>***</td>\n",
              "      <td></td>\n",
              "      <td></td>\n",
              "    </tr>\n",
              "    <tr>\n",
              "      <th>g</th>\n",
              "      <td>0.81</td>\n",
              "      <td>-0.275</td>\n",
              "      <td>-0.444</td>\n",
              "      <td>-0.26</td>\n",
              "      <td>-0.209</td>\n",
              "      <td>-0.318</td>\n",
              "      <td>-</td>\n",
              "      <td></td>\n",
              "      <td></td>\n",
              "    </tr>\n",
              "    <tr>\n",
              "      <th>h</th>\n",
              "      <td>-0.0</td>\n",
              "      <td>0.327</td>\n",
              "      <td>-0.492</td>\n",
              "      <td>0.479</td>\n",
              "      <td>-0.102</td>\n",
              "      <td>-0.043</td>\n",
              "      <td>-0.113</td>\n",
              "      <td>-</td>\n",
              "      <td></td>\n",
              "    </tr>\n",
              "    <tr>\n",
              "      <th>i</th>\n",
              "      <td>0.143</td>\n",
              "      <td>-0.241</td>\n",
              "      <td>0.083</td>\n",
              "      <td>-0.074</td>\n",
              "      <td>-0.094</td>\n",
              "      <td>-0.008</td>\n",
              "      <td>0.125</td>\n",
              "      <td>-0.059</td>\n",
              "      <td>-</td>\n",
              "    </tr>\n",
              "  </tbody>\n",
              "</table>\n",
              "</div>"
            ],
            "text/plain": [
              "        a       b       c       d       e       f       g       h    i\n",
              "a       -      **             ***     ***     ***     ***            *\n",
              "b  -0.192       -     ***       *             ***     ***     ***  ***\n",
              "c  -0.122  -0.274       -     ***       *             ***     ***     \n",
              "d  -0.407   0.157  -0.482       -             ***     ***     ***     \n",
              "e  -0.542   -0.07  -0.166  -0.006       -      **      **             \n",
              "f   -0.29  -0.266   0.005   0.326  -0.193       -     ***             \n",
              "g    0.81  -0.275  -0.444   -0.26  -0.209  -0.318       -             \n",
              "h    -0.0   0.327  -0.492   0.479  -0.102  -0.043  -0.113       -     \n",
              "i   0.143  -0.241   0.083  -0.074  -0.094  -0.008   0.125  -0.059    -"
            ]
          },
          "metadata": {
            "tags": []
          },
          "execution_count": 12
        }
      ]
    },
    {
      "cell_type": "code",
      "metadata": {
        "colab": {
          "base_uri": "https://localhost:8080/"
        },
        "id": "csAyKrHaI22k",
        "outputId": "b9741c35-d4f4-4ce8-cf31-a0ccac1f9f0d"
      },
      "source": [
        "#To find the VIF value for checking multicollinearity\n",
        "vif_data = df.drop(\"g\",axis=1)\n",
        "vif_data = vif_data.drop(\"a\",axis=1)\n",
        "X = vif_data.assign(const=1)\n",
        "pd.Series([variance_inflation_factor(X.values, i) \n",
        "               for i in range(X.shape[1])], \n",
        "              index=X.columns)"
      ],
      "execution_count": null,
      "outputs": [
        {
          "output_type": "execute_result",
          "data": {
            "text/plain": [
              "b            1.355447\n",
              "c            1.610087\n",
              "d            1.761771\n",
              "e            1.176548\n",
              "f            1.404605\n",
              "h            1.646275\n",
              "i            1.088565\n",
              "const    11633.361820\n",
              "dtype: float64"
            ]
          },
          "metadata": {
            "tags": []
          },
          "execution_count": 13
        }
      ]
    },
    {
      "cell_type": "code",
      "metadata": {
        "colab": {
          "base_uri": "https://localhost:8080/",
          "height": 328
        },
        "id": "7ophjpJo6Cae",
        "outputId": "81e85665-1001-4c2b-80f8-de3ed98808ac"
      },
      "source": [
        "#To find out the skewness and kurtosis of the variables\n",
        "a1 = skew(df.a)\n",
        "a2 = kurtosis(df.a)\n",
        "b1 = skew(df.b)\n",
        "b2 = kurtosis(df.b)\n",
        "c1 = skew(df.c)\n",
        "c2 = kurtosis(df.c)\n",
        "d1 = skew(df.d)\n",
        "d2 = kurtosis(df.d)\n",
        "e1 = skew(df.e)\n",
        "e2 = kurtosis(df.e)\n",
        "f1 = skew(df.f)\n",
        "f2 = kurtosis(df.f)\n",
        "g1 = skew(df.g)\n",
        "g2 = kurtosis(df.g)\n",
        "h1 = skew(df.h)\n",
        "h2 = kurtosis(df.h)\n",
        "i1 = skew(df.i)\n",
        "i2 = kurtosis(df.i)\n",
        "\n",
        "data = [[\"a\",a1,a2],[\"b\",b1,b2],[\"c\",c1,c2],[\"d\",d1,d2],[\"e\",e1,e2],[\"f\",f1,f2],[\"g\",g1,g2],[\"h\",h1,h2],[\"i\",i1,i2]]\n",
        "normaldist = pd.DataFrame(data, columns =[\"Chemical\",\"Skew\",\"Kurtois\"])\n",
        "normaldist\n",
        "                                                                                                                            "
      ],
      "execution_count": null,
      "outputs": [
        {
          "output_type": "execute_result",
          "data": {
            "text/html": [
              "<div>\n",
              "<style scoped>\n",
              "    .dataframe tbody tr th:only-of-type {\n",
              "        vertical-align: middle;\n",
              "    }\n",
              "\n",
              "    .dataframe tbody tr th {\n",
              "        vertical-align: top;\n",
              "    }\n",
              "\n",
              "    .dataframe thead th {\n",
              "        text-align: right;\n",
              "    }\n",
              "</style>\n",
              "<table border=\"1\" class=\"dataframe\">\n",
              "  <thead>\n",
              "    <tr style=\"text-align: right;\">\n",
              "      <th></th>\n",
              "      <th>Chemical</th>\n",
              "      <th>Skew</th>\n",
              "      <th>Kurtois</th>\n",
              "    </tr>\n",
              "  </thead>\n",
              "  <tbody>\n",
              "    <tr>\n",
              "      <th>0</th>\n",
              "      <td>a</td>\n",
              "      <td>1.614015</td>\n",
              "      <td>4.789354</td>\n",
              "    </tr>\n",
              "    <tr>\n",
              "      <th>1</th>\n",
              "      <td>b</td>\n",
              "      <td>0.450992</td>\n",
              "      <td>2.953477</td>\n",
              "    </tr>\n",
              "    <tr>\n",
              "      <th>2</th>\n",
              "      <td>c</td>\n",
              "      <td>-1.144465</td>\n",
              "      <td>-0.428702</td>\n",
              "    </tr>\n",
              "    <tr>\n",
              "      <th>3</th>\n",
              "      <td>d</td>\n",
              "      <td>0.900918</td>\n",
              "      <td>1.984832</td>\n",
              "    </tr>\n",
              "    <tr>\n",
              "      <th>4</th>\n",
              "      <td>e</td>\n",
              "      <td>-0.725317</td>\n",
              "      <td>2.871105</td>\n",
              "    </tr>\n",
              "    <tr>\n",
              "      <th>5</th>\n",
              "      <td>f</td>\n",
              "      <td>6.505636</td>\n",
              "      <td>53.392327</td>\n",
              "    </tr>\n",
              "    <tr>\n",
              "      <th>6</th>\n",
              "      <td>g</td>\n",
              "      <td>2.032677</td>\n",
              "      <td>6.498968</td>\n",
              "    </tr>\n",
              "    <tr>\n",
              "      <th>7</th>\n",
              "      <td>h</td>\n",
              "      <td>3.392431</td>\n",
              "      <td>12.222071</td>\n",
              "    </tr>\n",
              "    <tr>\n",
              "      <th>8</th>\n",
              "      <td>i</td>\n",
              "      <td>1.742007</td>\n",
              "      <td>2.572318</td>\n",
              "    </tr>\n",
              "  </tbody>\n",
              "</table>\n",
              "</div>"
            ],
            "text/plain": [
              "  Chemical      Skew    Kurtois\n",
              "0        a  1.614015   4.789354\n",
              "1        b  0.450992   2.953477\n",
              "2        c -1.144465  -0.428702\n",
              "3        d  0.900918   1.984832\n",
              "4        e -0.725317   2.871105\n",
              "5        f  6.505636  53.392327\n",
              "6        g  2.032677   6.498968\n",
              "7        h  3.392431  12.222071\n",
              "8        i  1.742007   2.572318"
            ]
          },
          "metadata": {
            "tags": []
          },
          "execution_count": 14
        }
      ]
    },
    {
      "cell_type": "code",
      "metadata": {
        "colab": {
          "base_uri": "https://localhost:8080/",
          "height": 328
        },
        "id": "DquZG_HMCtyD",
        "outputId": "c513752f-6c81-4e32-d9bb-a23083078665"
      },
      "source": [
        "#To carry out shapiro testing for normality\n",
        "p_value_a = \"{:.4f}\".format(stats.shapiro(df.a)[1])\n",
        "p_value_b = \"{:.4f}\".format(stats.shapiro(df.b)[1])\n",
        "p_value_c = \"{:.4f}\".format(stats.shapiro(df.c)[1])\n",
        "p_value_d = \"{:.4f}\".format(stats.shapiro(df.d)[1])\n",
        "p_value_e = \"{:.4f}\".format(stats.shapiro(df.e)[1])\n",
        "p_value_f = \"{:.4f}\".format(stats.shapiro(df.f)[1])\n",
        "p_value_g = \"{:.4f}\".format(stats.shapiro(df.g)[1])\n",
        "p_value_h = \"{:.4f}\".format(stats.shapiro(df.h)[1])\n",
        "p_value_i = \"{:.4f}\".format(stats.shapiro(df.i)[1])\n",
        "\n",
        "data = [[\"a\",p_value_a],[\"b\",p_value_b],[\"c\",p_value_c],[\"d\",p_value_d],[\"e\",p_value_e],[\"f\",p_value_f],[\"g\",p_value_g],[\"h\",p_value_h],[\"i\",p_value_i]]\n",
        "p_value = pd.DataFrame(data, columns =[\"Chemical\",\"P-value\"])\n",
        "p_value"
      ],
      "execution_count": null,
      "outputs": [
        {
          "output_type": "execute_result",
          "data": {
            "text/html": [
              "<div>\n",
              "<style scoped>\n",
              "    .dataframe tbody tr th:only-of-type {\n",
              "        vertical-align: middle;\n",
              "    }\n",
              "\n",
              "    .dataframe tbody tr th {\n",
              "        vertical-align: top;\n",
              "    }\n",
              "\n",
              "    .dataframe thead th {\n",
              "        text-align: right;\n",
              "    }\n",
              "</style>\n",
              "<table border=\"1\" class=\"dataframe\">\n",
              "  <thead>\n",
              "    <tr style=\"text-align: right;\">\n",
              "      <th></th>\n",
              "      <th>Chemical</th>\n",
              "      <th>P-value</th>\n",
              "    </tr>\n",
              "  </thead>\n",
              "  <tbody>\n",
              "    <tr>\n",
              "      <th>0</th>\n",
              "      <td>a</td>\n",
              "      <td>0.0000</td>\n",
              "    </tr>\n",
              "    <tr>\n",
              "      <th>1</th>\n",
              "      <td>b</td>\n",
              "      <td>0.0000</td>\n",
              "    </tr>\n",
              "    <tr>\n",
              "      <th>2</th>\n",
              "      <td>c</td>\n",
              "      <td>0.0000</td>\n",
              "    </tr>\n",
              "    <tr>\n",
              "      <th>3</th>\n",
              "      <td>d</td>\n",
              "      <td>0.0002</td>\n",
              "    </tr>\n",
              "    <tr>\n",
              "      <th>4</th>\n",
              "      <td>e</td>\n",
              "      <td>0.0000</td>\n",
              "    </tr>\n",
              "    <tr>\n",
              "      <th>5</th>\n",
              "      <td>f</td>\n",
              "      <td>0.0000</td>\n",
              "    </tr>\n",
              "    <tr>\n",
              "      <th>6</th>\n",
              "      <td>g</td>\n",
              "      <td>0.0000</td>\n",
              "    </tr>\n",
              "    <tr>\n",
              "      <th>7</th>\n",
              "      <td>h</td>\n",
              "      <td>0.0000</td>\n",
              "    </tr>\n",
              "    <tr>\n",
              "      <th>8</th>\n",
              "      <td>i</td>\n",
              "      <td>0.0000</td>\n",
              "    </tr>\n",
              "  </tbody>\n",
              "</table>\n",
              "</div>"
            ],
            "text/plain": [
              "  Chemical P-value\n",
              "0        a  0.0000\n",
              "1        b  0.0000\n",
              "2        c  0.0000\n",
              "3        d  0.0002\n",
              "4        e  0.0000\n",
              "5        f  0.0000\n",
              "6        g  0.0000\n",
              "7        h  0.0000\n",
              "8        i  0.0000"
            ]
          },
          "metadata": {
            "tags": []
          },
          "execution_count": 47
        }
      ]
    },
    {
      "cell_type": "code",
      "metadata": {
        "colab": {
          "base_uri": "https://localhost:8080/",
          "height": 1000
        },
        "id": "4ZrdJzGhGlr2",
        "outputId": "c18500c2-e86f-45df-c747-6122ac44a6d9"
      },
      "source": [
        "#To plot the distribution and qq plot of the variables\n",
        "fig, ax = plt.subplots(1, 2, figsize=(12, 7))\n",
        "sns.histplot(df.a, kde=True, color ='blue',ax=ax[0])\n",
        "sm.ProbPlot(df.a).qqplot(line='s', ax=ax[1])\n",
        "\n",
        "fig, ax = plt.subplots(1, 2, figsize=(12, 7))\n",
        "sns.histplot(df.b, kde=True, color ='blue',ax=ax[0])\n",
        "sm.ProbPlot(df.b).qqplot(line='s', ax=ax[1])\n",
        "\n",
        "fig, ax = plt.subplots(1, 2, figsize=(12, 7))\n",
        "sns.histplot(df.c, kde=True, color ='blue',ax=ax[0])\n",
        "sm.ProbPlot(df.c).qqplot(line='s', ax=ax[1])\n",
        "\n",
        "fig, ax = plt.subplots(1, 2, figsize=(12, 7))\n",
        "sns.histplot(df.d, kde=True, color ='blue',ax=ax[0])\n",
        "sm.ProbPlot(df.d).qqplot(line='s', ax=ax[1])\n",
        "\n",
        "fig, ax = plt.subplots(1, 2, figsize=(12, 7))\n",
        "sns.histplot(df.e, kde=True, color ='blue',ax=ax[0])\n",
        "sm.ProbPlot(df.e).qqplot(line='s', ax=ax[1])\n",
        "\n",
        "fig, ax = plt.subplots(1, 2, figsize=(12, 7))\n",
        "sns.histplot(df.f, kde=True, color ='blue',ax=ax[0])\n",
        "sm.ProbPlot(df.f).qqplot(line='s', ax=ax[1])\n",
        "\n",
        "fig, ax = plt.subplots(1, 2, figsize=(12, 7))\n",
        "sns.histplot(df.g, kde=True, color ='blue',ax=ax[0])\n",
        "sm.ProbPlot(df.g).qqplot(line='s', ax=ax[1])\n",
        "\n",
        "fig, ax = plt.subplots(1, 2, figsize=(12, 7))\n",
        "sns.histplot(df.h, kde=True, color ='blue',ax=ax[0])\n",
        "sm.ProbPlot(df.h).qqplot(line='s', ax=ax[1])\n",
        "\n",
        "fig, ax = plt.subplots(1, 2, figsize=(12, 7))\n",
        "sns.histplot(df.i, kde=True, color ='blue',ax=ax[0])\n",
        "sm.ProbPlot(df.i).qqplot(line='s', ax=ax[1])"
      ],
      "execution_count": null,
      "outputs": [
        {
          "output_type": "execute_result",
          "data": {
            "image/png": "[encoded data removed]",
            "text/plain": [
              "<Figure size 864x504 with 2 Axes>"
            ]
          },
          "metadata": {
            "tags": []
          },
          "execution_count": 48
        },
        {
          "output_type": "display_data",
          "data": {
            "image/png": "[encoded data removed]",
            "text/plain": [
              "<Figure size 864x504 with 2 Axes>"
            ]
          },
          "metadata": {
            "tags": [],
            "needs_background": "light"
          }
        },
        {
          "output_type": "display_data",
          "data": {
            "image/png": "[encoded data removed]",
            "text/plain": [
              "<Figure size 864x504 with 2 Axes>"
            ]
          },
          "metadata": {
            "tags": [],
            "needs_background": "light"
          }
        },
        {
          "output_type": "display_data",
          "data": {
            "image/png": "[encoded data removed]",
            "text/plain": [
              "<Figure size 864x504 with 2 Axes>"
            ]
          },
          "metadata": {
            "tags": [],
            "needs_background": "light"
          }
        },
        {
          "output_type": "display_data",
          "data": {
            "image/png": "[encoded data removed]",
            "text/plain": [
              "<Figure size 864x504 with 2 Axes>"
            ]
          },
          "metadata": {
            "tags": [],
            "needs_background": "light"
          }
        },
        {
          "output_type": "display_data",
          "data": {
            "image/png": "[encoded data removed]",
            "text/plain": [
              "<Figure size 864x504 with 2 Axes>"
            ]
          },
          "metadata": {
            "tags": [],
            "needs_background": "light"
          }
        },
        {
          "output_type": "display_data",
          "data": {
            "image/png": "[encoded data removed]",
            "text/plain": [
              "<Figure size 864x504 with 2 Axes>"
            ]
          },
          "metadata": {
            "tags": [],
            "needs_background": "light"
          }
        },
        {
          "output_type": "display_data",
          "data": {
            "image/png": "[encoded data removed]",
            "text/plain": [
              "<Figure size 864x504 with 2 Axes>"
            ]
          },
          "metadata": {
            "tags": [],
            "needs_background": "light"
          }
        },
        {
          "output_type": "display_data",
          "data": {
            "image/png": "[encoded data removed]",
            "text/plain": [
              "<Figure size 864x504 with 2 Axes>"
            ]
          },
          "metadata": {
            "tags": [],
            "needs_background": "light"
          }
        },
        {
          "output_type": "display_data",
          "data": {
            "image/png": "[encoded data removed]",
            "text/plain": [
              "<Figure size 864x504 with 2 Axes>"
            ]
          },
          "metadata": {
            "tags": [],
            "needs_background": "light"
          }
        }
      ]
    },
    {
      "cell_type": "code",
      "metadata": {
        "colab": {
          "base_uri": "https://localhost:8080/"
        },
        "id": "6AMtli58KySr",
        "outputId": "dbe73c98-8bc8-4b41-cf29-0e038badd0c5"
      },
      "source": [
        "#KMO of SMA testing for the variables\n",
        "kmo_all,kmo_model=calculate_kmo(df)\n",
        "print(\"KMO is:\",kmo_model)"
      ],
      "execution_count": null,
      "outputs": [
        {
          "output_type": "stream",
          "text": [
            "KMO is: 0.4201378233855649\n"
          ],
          "name": "stdout"
        },
        {
          "output_type": "stream",
          "text": [
            "/usr/local/lib/python3.7/dist-packages/factor_analyzer/utils.py:248: UserWarning: The inverse of the variance-covariance matrix was calculated using the Moore-Penrose generalized matrix inversion, due to its determinant being at or very close to zero.\n",
            "  warnings.warn('The inverse of the variance-covariance matrix '\n"
          ],
          "name": "stderr"
        }
      ]
    },
    {
      "cell_type": "code",
      "metadata": {
        "colab": {
          "base_uri": "https://localhost:8080/",
          "height": 204
        },
        "id": "uTyQeutOVhfa",
        "outputId": "65c32ef5-c929-406c-f2b3-ced647be80aa"
      },
      "source": [
        "#To normalize the data\n",
        "data_scaled = normalize(df)\n",
        "data_scaled = pd.DataFrame(data_scaled, columns=df.columns)\n",
        "data_scaled.head()"
      ],
      "execution_count": null,
      "outputs": [
        {
          "output_type": "execute_result",
          "data": {
            "text/html": [
              "<div>\n",
              "<style scoped>\n",
              "    .dataframe tbody tr th:only-of-type {\n",
              "        vertical-align: middle;\n",
              "    }\n",
              "\n",
              "    .dataframe tbody tr th {\n",
              "        vertical-align: top;\n",
              "    }\n",
              "\n",
              "    .dataframe thead th {\n",
              "        text-align: right;\n",
              "    }\n",
              "</style>\n",
              "<table border=\"1\" class=\"dataframe\">\n",
              "  <thead>\n",
              "    <tr style=\"text-align: right;\">\n",
              "      <th></th>\n",
              "      <th>a</th>\n",
              "      <th>b</th>\n",
              "      <th>c</th>\n",
              "      <th>d</th>\n",
              "      <th>e</th>\n",
              "      <th>f</th>\n",
              "      <th>g</th>\n",
              "      <th>h</th>\n",
              "      <th>i</th>\n",
              "      <th>cluster</th>\n",
              "    </tr>\n",
              "  </thead>\n",
              "  <tbody>\n",
              "    <tr>\n",
              "      <th>0</th>\n",
              "      <td>0.121641</td>\n",
              "      <td>0.356323</td>\n",
              "      <td>0.185797</td>\n",
              "      <td>0.128375</td>\n",
              "      <td>0.842160</td>\n",
              "      <td>0.072566</td>\n",
              "      <td>0.286886</td>\n",
              "      <td>0.00000</td>\n",
              "      <td>0.026127</td>\n",
              "      <td>0.098750</td>\n",
              "    </tr>\n",
              "    <tr>\n",
              "      <th>1</th>\n",
              "      <td>0.120486</td>\n",
              "      <td>0.318942</td>\n",
              "      <td>0.000000</td>\n",
              "      <td>0.141098</td>\n",
              "      <td>0.813526</td>\n",
              "      <td>0.074153</td>\n",
              "      <td>0.355090</td>\n",
              "      <td>0.17281</td>\n",
              "      <td>0.051522</td>\n",
              "      <td>0.194734</td>\n",
              "    </tr>\n",
              "    <tr>\n",
              "      <th>2</th>\n",
              "      <td>0.121870</td>\n",
              "      <td>0.360277</td>\n",
              "      <td>0.186848</td>\n",
              "      <td>0.089424</td>\n",
              "      <td>0.837882</td>\n",
              "      <td>0.034209</td>\n",
              "      <td>0.314925</td>\n",
              "      <td>0.00000</td>\n",
              "      <td>0.017104</td>\n",
              "      <td>0.098752</td>\n",
              "    </tr>\n",
              "    <tr>\n",
              "      <th>3</th>\n",
              "      <td>0.121809</td>\n",
              "      <td>0.350415</td>\n",
              "      <td>0.185507</td>\n",
              "      <td>0.118238</td>\n",
              "      <td>0.845659</td>\n",
              "      <td>0.074649</td>\n",
              "      <td>0.288946</td>\n",
              "      <td>0.00000</td>\n",
              "      <td>0.000000</td>\n",
              "      <td>0.098875</td>\n",
              "    </tr>\n",
              "    <tr>\n",
              "      <th>4</th>\n",
              "      <td>0.121803</td>\n",
              "      <td>0.362277</td>\n",
              "      <td>0.197217</td>\n",
              "      <td>0.107385</td>\n",
              "      <td>0.841669</td>\n",
              "      <td>0.075286</td>\n",
              "      <td>0.282216</td>\n",
              "      <td>0.00000</td>\n",
              "      <td>0.000000</td>\n",
              "      <td>0.098856</td>\n",
              "    </tr>\n",
              "  </tbody>\n",
              "</table>\n",
              "</div>"
            ],
            "text/plain": [
              "          a         b         c  ...        h         i   cluster\n",
              "0  0.121641  0.356323  0.185797  ...  0.00000  0.026127  0.098750\n",
              "1  0.120486  0.318942  0.000000  ...  0.17281  0.051522  0.194734\n",
              "2  0.121870  0.360277  0.186848  ...  0.00000  0.017104  0.098752\n",
              "3  0.121809  0.350415  0.185507  ...  0.00000  0.000000  0.098875\n",
              "4  0.121803  0.362277  0.197217  ...  0.00000  0.000000  0.098856\n",
              "\n",
              "[5 rows x 10 columns]"
            ]
          },
          "metadata": {
            "tags": []
          },
          "execution_count": 50
        }
      ]
    },
    {
      "cell_type": "code",
      "metadata": {
        "colab": {
          "base_uri": "https://localhost:8080/",
          "height": 444
        },
        "id": "eeXo61TEVpxX",
        "outputId": "1cabb95a-bd8a-4057-985c-ad008597faff"
      },
      "source": [
        "#To plot dendograms to determine the number of clusters (Hierachical methods)\n",
        "plt.figure(figsize=(10, 7))  \n",
        "plt.title(\"Dendrograms\")  \n",
        "dend = shc.dendrogram(shc.linkage(data_scaled, method='ward'))"
      ],
      "execution_count": null,
      "outputs": [
        {
          "output_type": "display_data",
          "data": {
            "image/png": "[encoded data removed]",
            "text/plain": [
              "<Figure size 720x504 with 1 Axes>"
            ]
          },
          "metadata": {
            "tags": [],
            "needs_background": "light"
          }
        }
      ]
    },
    {
      "cell_type": "code",
      "metadata": {
        "colab": {
          "base_uri": "https://localhost:8080/",
          "height": 461
        },
        "id": "q2CmrHj3WJ0x",
        "outputId": "c6c431c8-7e79-4d2d-8c36-d3d55f8d9396"
      },
      "source": [
        "plt.figure(figsize=(10, 7))  \n",
        "plt.title(\"Dendrograms\")  \n",
        "dend = shc.dendrogram(shc.linkage(data_scaled, method='ward'))\n",
        "plt.axhline(y=0.5, color='r', linestyle='--')"
      ],
      "execution_count": null,
      "outputs": [
        {
          "output_type": "execute_result",
          "data": {
            "text/plain": [
              "<matplotlib.lines.Line2D at 0x7f1fe8eddd90>"
            ]
          },
          "metadata": {
            "tags": []
          },
          "execution_count": 54
        },
        {
          "output_type": "display_data",
          "data": {
            "image/png": "[encoded data removed]",
            "text/plain": [
              "<Figure size 720x504 with 1 Axes>"
            ]
          },
          "metadata": {
            "tags": [],
            "needs_background": "light"
          }
        }
      ]
    },
    {
      "cell_type": "code",
      "metadata": {
        "colab": {
          "base_uri": "https://localhost:8080/"
        },
        "id": "kv9-hepSWP7F",
        "outputId": "b1764d19-7a25-437f-ff9f-8ecae84d1a91"
      },
      "source": [
        "#To perform cluster prediction\n",
        "cluster = AgglomerativeClustering(n_clusters=3, affinity='euclidean', linkage='ward') \n",
        "cluster.fit_predict(data_scaled)"
      ],
      "execution_count": null,
      "outputs": [
        {
          "output_type": "execute_result",
          "data": {
            "text/plain": [
              "array([1, 2, 1, 1, 1, 1, 1, 0, 1, 1, 1, 1, 1, 1, 1, 1, 1, 1, 1, 1, 1, 1,\n",
              "       2, 1, 1, 1, 1, 1, 0, 1, 0, 1, 2, 1, 1, 1, 1, 1, 1, 1, 1, 0, 0, 1,\n",
              "       0, 1, 1, 1, 2, 2, 1, 1, 1, 1, 1, 1, 1, 2, 1, 1, 1, 1, 1, 1, 1, 1,\n",
              "       0, 1, 1, 2, 1, 2, 1, 1, 1, 1, 1, 1, 1, 1, 1, 1, 1, 1, 2, 1, 1, 2,\n",
              "       1, 1, 1, 1, 1, 1, 1, 1, 1, 1, 1, 2, 1, 0, 1, 2, 1, 1, 1, 1, 1, 1,\n",
              "       1, 1, 1, 1, 2, 2, 1, 1, 1, 0, 1, 0, 1, 1, 1, 1, 0, 1, 1, 1, 1, 1,\n",
              "       1, 2, 1, 2, 1, 1, 1, 1, 1, 2, 1, 1, 0, 1, 0, 0, 1, 1, 1, 1, 1, 1,\n",
              "       1, 1, 0, 1, 1, 2, 1, 1, 1, 1, 2, 2, 1, 1, 1, 0, 1, 2, 1, 1, 1, 1,\n",
              "       1, 1, 0, 0, 1, 2, 0, 1, 1, 2, 0, 1, 1, 1, 1, 1, 2, 1, 2, 1, 0, 1,\n",
              "       1, 1, 1, 0, 1, 1, 1, 0, 1, 1, 1, 1, 1, 1, 1, 0])"
            ]
          },
          "metadata": {
            "tags": []
          },
          "execution_count": 55
        }
      ]
    },
    {
      "cell_type": "code",
      "metadata": {
        "id": "GmyeqF-JZuqG"
      },
      "source": [
        "#To predict the cluster\n",
        "df[\"cluster\"] = cluster.fit_predict(data_scaled)"
      ],
      "execution_count": null,
      "outputs": []
    },
    {
      "cell_type": "code",
      "metadata": {
        "id": "wEll2xqUF12W"
      },
      "source": [
        "df[\"cluster\"].replace({0: 3}, inplace=True)"
      ],
      "execution_count": null,
      "outputs": []
    },
    {
      "cell_type": "code",
      "metadata": {
        "colab": {
          "base_uri": "https://localhost:8080/"
        },
        "id": "G_jIqYQSZ1bx",
        "outputId": "507ee208-f24b-458d-e2ca-a31115133adf"
      },
      "source": [
        "#The count of each class\n",
        "df['cluster'].value_counts()"
      ],
      "execution_count": null,
      "outputs": [
        {
          "output_type": "execute_result",
          "data": {
            "text/plain": [
              "1    165\n",
              "2     25\n",
              "3     24\n",
              "Name: cluster, dtype: int64"
            ]
          },
          "metadata": {
            "tags": []
          },
          "execution_count": 58
        }
      ]
    },
    {
      "cell_type": "code",
      "metadata": {
        "colab": {
          "base_uri": "https://localhost:8080/"
        },
        "id": "NAoYoPD1yG2x",
        "outputId": "15263a7a-fb92-4469-c49e-4d0ae32ec96b"
      },
      "source": [
        "#To check the mean of each chemical in each cluster\n",
        "clustergrp = df.groupby(\"cluster\").mean()\n",
        "print (\"Clustering variable means by cluster:\")\n",
        "print(clustergrp)"
      ],
      "execution_count": null,
      "outputs": [
        {
          "output_type": "stream",
          "text": [
            "Clustering variable means by cluster:\n",
            "                a         b         c  ...         g         h         i\n",
            "cluster                                ...                              \n",
            "1        1.232108  3.645374  1.846732  ...  2.930579  0.053530  0.142709\n",
            "2        1.231759  3.817346  0.054111  ...  2.952504  1.027005  0.080007\n",
            "3        1.233463  3.596608  0.262638  ...  3.387808  0.000000  0.109395\n",
            "\n",
            "[3 rows x 9 columns]\n"
          ],
          "name": "stdout"
        }
      ]
    },
    {
      "cell_type": "code",
      "metadata": {
        "colab": {
          "base_uri": "https://localhost:8080/"
        },
        "id": "JWz99ZJQ_Xdw",
        "outputId": "9400e89a-27ec-4470-e160-566529403d9d"
      },
      "source": [
        "#To perform regression analysis\n",
        "diff = smm.ols(formula='a ~ C(cluster)', data=df).fit()\n",
        "print (diff.summary())"
      ],
      "execution_count": null,
      "outputs": [
        {
          "output_type": "stream",
          "text": [
            "                            OLS Regression Results                            \n",
            "==============================================================================\n",
            "Dep. Variable:                      a   R-squared:                       0.138\n",
            "Model:                            OLS   Adj. R-squared:                  0.130\n",
            "Method:                 Least Squares   F-statistic:                     16.85\n",
            "Date:                Wed, 11 Aug 2021   Prob (F-statistic):           1.62e-07\n",
            "Time:                        15:13:42   Log-Likelihood:                 1146.4\n",
            "No. Observations:                 214   AIC:                            -2287.\n",
            "Df Residuals:                     211   BIC:                            -2277.\n",
            "Df Model:                           2                                         \n",
            "Covariance Type:            nonrobust                                         \n",
            "===================================================================================\n",
            "                      coef    std err          t      P>|t|      [0.025      0.975]\n",
            "-----------------------------------------------------------------------------------\n",
            "Intercept           1.2321   8.94e-05   1.38e+04      0.000       1.232       1.232\n",
            "C(cluster)[T.2]    -0.0003      0.000     -1.416      0.158      -0.001       0.000\n",
            "C(cluster)[T.3]     0.0014      0.000      5.401      0.000       0.001       0.002\n",
            "==============================================================================\n",
            "Omnibus:                       69.105   Durbin-Watson:                   1.995\n",
            "Prob(Omnibus):                  0.000   Jarque-Bera (JB):              265.328\n",
            "Skew:                           1.253   Prob(JB):                     2.42e-58\n",
            "Kurtosis:                       7.845   Cond. No.                         3.46\n",
            "==============================================================================\n",
            "\n",
            "Warnings:\n",
            "[1] Standard Errors assume that the covariance matrix of the errors is correctly specified.\n"
          ],
          "name": "stdout"
        }
      ]
    },
    {
      "cell_type": "code",
      "metadata": {
        "colab": {
          "base_uri": "https://localhost:8080/"
        },
        "id": "t5Juul3VIhgw",
        "outputId": "0a15951a-5f4a-40d8-ed5b-ab2337d738c9"
      },
      "source": [
        "mc1 = multi.MultiComparison(df[\"a\"], df[\"cluster\"])\n",
        "res1 = mc1.tukeyhsd()\n",
        "print(res1.summary())"
      ],
      "execution_count": null,
      "outputs": [
        {
          "output_type": "stream",
          "text": [
            "Multiple Comparison of Means - Tukey HSD, FWER=0.05\n",
            "===================================================\n",
            "group1 group2 meandiff p-adj   lower  upper  reject\n",
            "---------------------------------------------------\n",
            "     1      2  -0.0003 0.3353 -0.0009 0.0002  False\n",
            "     1      3   0.0014  0.001  0.0008 0.0019   True\n",
            "     2      3   0.0017  0.001  0.0009 0.0025   True\n",
            "---------------------------------------------------\n"
          ],
          "name": "stdout"
        }
      ]
    },
    {
      "cell_type": "code",
      "metadata": {
        "colab": {
          "base_uri": "https://localhost:8080/"
        },
        "id": "tDSMsJ_PNG4A",
        "outputId": "98b03991-7cde-4a7a-a404-56167936b204"
      },
      "source": [
        "diff = smm.ols(formula='b ~ C(cluster)', data=df).fit()\n",
        "print (diff.summary())"
      ],
      "execution_count": null,
      "outputs": [
        {
          "output_type": "stream",
          "text": [
            "                            OLS Regression Results                            \n",
            "==============================================================================\n",
            "Dep. Variable:                      b   R-squared:                       0.332\n",
            "Model:                            OLS   Adj. R-squared:                  0.326\n",
            "Method:                 Least Squares   F-statistic:                     52.50\n",
            "Date:                Wed, 11 Aug 2021   Prob (F-statistic):           3.13e-19\n",
            "Time:                        15:03:58   Log-Likelihood:                -216.58\n",
            "No. Observations:                 214   AIC:                             439.2\n",
            "Df Residuals:                     211   BIC:                             449.3\n",
            "Df Model:                           2                                         \n",
            "Covariance Type:            nonrobust                                         \n",
            "===================================================================================\n",
            "                      coef    std err          t      P>|t|      [0.025      0.975]\n",
            "-----------------------------------------------------------------------------------\n",
            "Intercept          13.2936      0.052    254.696      0.000      13.191      13.397\n",
            "C(cluster)[T.2]    -0.4349      0.149     -2.915      0.004      -0.729      -0.141\n",
            "C(cluster)[T.3]     1.3248      0.141      9.365      0.000       1.046       1.604\n",
            "==============================================================================\n",
            "Omnibus:                       17.616   Durbin-Watson:                   1.995\n",
            "Prob(Omnibus):                  0.000   Jarque-Bera (JB):               40.800\n",
            "Skew:                           0.332   Prob(JB):                     1.38e-09\n",
            "Kurtosis:                       5.033   Cond. No.                         3.48\n",
            "==============================================================================\n",
            "\n",
            "Warnings:\n",
            "[1] Standard Errors assume that the covariance matrix of the errors is correctly specified.\n"
          ],
          "name": "stdout"
        }
      ]
    },
    {
      "cell_type": "code",
      "metadata": {
        "colab": {
          "base_uri": "https://localhost:8080/"
        },
        "id": "ET4hXY37JLHL",
        "outputId": "85cf37ac-b5ee-4d80-d7db-b3e1bd0b4832"
      },
      "source": [
        "mc1 = multi.MultiComparison(df[\"b\"], df[\"cluster\"])\n",
        "res1 = mc1.tukeyhsd()\n",
        "print(res1.summary())"
      ],
      "execution_count": null,
      "outputs": [
        {
          "output_type": "stream",
          "text": [
            "Multiple Comparison of Means - Tukey HSD, FWER=0.05\n",
            "===================================================\n",
            "group1 group2 meandiff p-adj  lower   upper  reject\n",
            "---------------------------------------------------\n",
            "     1      2  -0.4349 0.011 -0.7872 -0.0827   True\n",
            "     1      3   1.3248 0.001  0.9909  1.6588   True\n",
            "     2      3   1.7598 0.001  1.3067  2.2128   True\n",
            "---------------------------------------------------\n"
          ],
          "name": "stdout"
        }
      ]
    },
    {
      "cell_type": "code",
      "metadata": {
        "colab": {
          "base_uri": "https://localhost:8080/"
        },
        "id": "J0euV-8INJTb",
        "outputId": "cfc7c6b6-223f-445a-cd73-a5a4c502c085"
      },
      "source": [
        "diff = smm.ols(formula='c ~ C(cluster)', data=df).fit()\n",
        "print (diff.summary())"
      ],
      "execution_count": null,
      "outputs": [
        {
          "output_type": "stream",
          "text": [
            "                            OLS Regression Results                            \n",
            "==============================================================================\n",
            "Dep. Variable:                      c   R-squared:                       0.900\n",
            "Model:                            OLS   Adj. R-squared:                  0.899\n",
            "Method:                 Least Squares   F-statistic:                     950.2\n",
            "Date:                Wed, 11 Aug 2021   Prob (F-statistic):          2.96e-106\n",
            "Time:                        15:03:59   Log-Likelihood:                -135.10\n",
            "No. Observations:                 214   AIC:                             276.2\n",
            "Df Residuals:                     211   BIC:                             286.3\n",
            "Df Model:                           2                                         \n",
            "Covariance Type:            nonrobust                                         \n",
            "===================================================================================\n",
            "                      coef    std err          t      P>|t|      [0.025      0.975]\n",
            "-----------------------------------------------------------------------------------\n",
            "Intercept           3.4279      0.036     96.109      0.000       3.358       3.498\n",
            "C(cluster)[T.2]    -3.1209      0.102    -30.606      0.000      -3.322      -2.920\n",
            "C(cluster)[T.3]    -3.3575      0.097    -34.732      0.000      -3.548      -3.167\n",
            "==============================================================================\n",
            "Omnibus:                       51.222   Durbin-Watson:                   2.052\n",
            "Prob(Omnibus):                  0.000   Jarque-Bera (JB):              230.710\n",
            "Skew:                          -0.836   Prob(JB):                     7.98e-51\n",
            "Kurtosis:                       7.804   Cond. No.                         3.48\n",
            "==============================================================================\n",
            "\n",
            "Warnings:\n",
            "[1] Standard Errors assume that the covariance matrix of the errors is correctly specified.\n"
          ],
          "name": "stdout"
        }
      ]
    },
    {
      "cell_type": "code",
      "metadata": {
        "colab": {
          "base_uri": "https://localhost:8080/"
        },
        "id": "ar7XFqP3JQ3w",
        "outputId": "f7ae4efa-6b67-4f1a-84aa-a98778fd5fb6"
      },
      "source": [
        "mc1 = multi.MultiComparison(df[\"c\"], df[\"cluster\"])\n",
        "res1 = mc1.tukeyhsd()\n",
        "print(res1.summary())"
      ],
      "execution_count": null,
      "outputs": [
        {
          "output_type": "stream",
          "text": [
            "Multiple Comparison of Means - Tukey HSD, FWER=0.05\n",
            "===================================================\n",
            "group1 group2 meandiff p-adj  lower   upper  reject\n",
            "---------------------------------------------------\n",
            "     1      2  -3.1209 0.001 -3.3616 -2.8802   True\n",
            "     1      3  -3.3575 0.001 -3.5857 -3.1293   True\n",
            "     2      3  -0.2366 0.171 -0.5461   0.073  False\n",
            "---------------------------------------------------\n"
          ],
          "name": "stdout"
        }
      ]
    },
    {
      "cell_type": "code",
      "metadata": {
        "colab": {
          "base_uri": "https://localhost:8080/"
        },
        "id": "qcnkxAHqNLtW",
        "outputId": "608c3765-7c6b-4bc5-bd6e-c87242d0f715"
      },
      "source": [
        "diff = smm.ols(formula='d ~ C(cluster)', data=df).fit()\n",
        "print (diff.summary())"
      ],
      "execution_count": null,
      "outputs": [
        {
          "output_type": "stream",
          "text": [
            "                            OLS Regression Results                            \n",
            "==============================================================================\n",
            "Dep. Variable:                      d   R-squared:                       0.333\n",
            "Model:                            OLS   Adj. R-squared:                  0.327\n",
            "Method:                 Least Squares   F-statistic:                     52.76\n",
            "Date:                Wed, 11 Aug 2021   Prob (F-statistic):           2.62e-19\n",
            "Time:                        15:03:59   Log-Likelihood:                -111.11\n",
            "No. Observations:                 214   AIC:                             228.2\n",
            "Df Residuals:                     211   BIC:                             238.3\n",
            "Df Model:                           2                                         \n",
            "Covariance Type:            nonrobust                                         \n",
            "===================================================================================\n",
            "                      coef    std err          t      P>|t|      [0.025      0.975]\n",
            "-----------------------------------------------------------------------------------\n",
            "Intercept           1.3336      0.032     41.825      0.000       1.271       1.396\n",
            "C(cluster)[T.2]     0.0364      0.091      0.400      0.690      -0.143       0.216\n",
            "C(cluster)[T.3]     0.8841      0.086     10.231      0.000       0.714       1.054\n",
            "==============================================================================\n",
            "Omnibus:                       31.214   Durbin-Watson:                   1.964\n",
            "Prob(Omnibus):                  0.000   Jarque-Bera (JB):              212.472\n",
            "Skew:                           0.113   Prob(JB):                     7.28e-47\n",
            "Kurtosis:                       7.876   Cond. No.                         3.48\n",
            "==============================================================================\n",
            "\n",
            "Warnings:\n",
            "[1] Standard Errors assume that the covariance matrix of the errors is correctly specified.\n"
          ],
          "name": "stdout"
        }
      ]
    },
    {
      "cell_type": "code",
      "metadata": {
        "colab": {
          "base_uri": "https://localhost:8080/"
        },
        "id": "OV3q7QeLJTGf",
        "outputId": "3bf9d5ca-6bcf-44eb-d6a7-7e7cbf7e48bc"
      },
      "source": [
        "mc1 = multi.MultiComparison(df[\"d\"], df[\"cluster\"])\n",
        "res1 = mc1.tukeyhsd()\n",
        "print(res1.summary())"
      ],
      "execution_count": null,
      "outputs": [
        {
          "output_type": "stream",
          "text": [
            "Multiple Comparison of Means - Tukey HSD, FWER=0.05\n",
            "==================================================\n",
            "group1 group2 meandiff p-adj  lower  upper  reject\n",
            "--------------------------------------------------\n",
            "     1      2   0.0364   0.9 -0.1788 0.2516  False\n",
            "     1      3   0.8841 0.001  0.6801 1.0881   True\n",
            "     2      3   0.8477 0.001   0.571 1.1244   True\n",
            "--------------------------------------------------\n"
          ],
          "name": "stdout"
        }
      ]
    },
    {
      "cell_type": "code",
      "metadata": {
        "colab": {
          "base_uri": "https://localhost:8080/"
        },
        "id": "KP0CJshENOP0",
        "outputId": "86e5fa67-0f24-417c-ea5d-3ee778cdd42d"
      },
      "source": [
        "diff = smm.ols(formula='e ~ C(cluster)', data=df).fit()\n",
        "print (diff.summary())"
      ],
      "execution_count": null,
      "outputs": [
        {
          "output_type": "stream",
          "text": [
            "                            OLS Regression Results                            \n",
            "==============================================================================\n",
            "Dep. Variable:                      e   R-squared:                       0.027\n",
            "Model:                            OLS   Adj. R-squared:                  0.018\n",
            "Method:                 Least Squares   F-statistic:                     2.915\n",
            "Date:                Wed, 11 Aug 2021   Prob (F-statistic):             0.0564\n",
            "Time:                        15:03:59   Log-Likelihood:                -245.56\n",
            "No. Observations:                 214   AIC:                             497.1\n",
            "Df Residuals:                     211   BIC:                             507.2\n",
            "Df Model:                           2                                         \n",
            "Covariance Type:            nonrobust                                         \n",
            "===================================================================================\n",
            "                      coef    std err          t      P>|t|      [0.025      0.975]\n",
            "-----------------------------------------------------------------------------------\n",
            "Intercept          72.5950      0.060   1214.709      0.000      72.477      72.713\n",
            "C(cluster)[T.2]     0.0789      0.171      0.462      0.645      -0.258       0.416\n",
            "C(cluster)[T.3]     0.3904      0.162      2.410      0.017       0.071       0.710\n",
            "==============================================================================\n",
            "Omnibus:                       48.179   Durbin-Watson:                   2.072\n",
            "Prob(Omnibus):                  0.000   Jarque-Bera (JB):              132.875\n",
            "Skew:                          -0.955   Prob(JB):                     1.40e-29\n",
            "Kurtosis:                       6.354   Cond. No.                         3.48\n",
            "==============================================================================\n",
            "\n",
            "Warnings:\n",
            "[1] Standard Errors assume that the covariance matrix of the errors is correctly specified.\n"
          ],
          "name": "stdout"
        }
      ]
    },
    {
      "cell_type": "code",
      "metadata": {
        "colab": {
          "base_uri": "https://localhost:8080/"
        },
        "id": "p_bbzUxJJVgH",
        "outputId": "b01863c4-319b-4fac-dae5-17f4ec7ddb8e"
      },
      "source": [
        "mc1 = multi.MultiComparison(df[\"e\"], df[\"cluster\"])\n",
        "res1 = mc1.tukeyhsd()\n",
        "print(res1.summary())"
      ],
      "execution_count": null,
      "outputs": [
        {
          "output_type": "stream",
          "text": [
            "Multiple Comparison of Means - Tukey HSD, FWER=0.05\n",
            "===================================================\n",
            "group1 group2 meandiff p-adj   lower  upper  reject\n",
            "---------------------------------------------------\n",
            "     1      2   0.0789 0.8803 -0.3244 0.4822  False\n",
            "     1      3   0.3904 0.0442   0.008 0.7727   True\n",
            "     2      3   0.3115 0.3344 -0.2072 0.8302  False\n",
            "---------------------------------------------------\n"
          ],
          "name": "stdout"
        }
      ]
    },
    {
      "cell_type": "code",
      "metadata": {
        "colab": {
          "base_uri": "https://localhost:8080/"
        },
        "id": "W9KU4BWANZGX",
        "outputId": "f089f8af-1f86-4edb-dabd-f48c7095bf6f"
      },
      "source": [
        "diff = smm.ols(formula='f ~ C(cluster)', data=df).fit()\n",
        "print (diff.summary())"
      ],
      "execution_count": null,
      "outputs": [
        {
          "output_type": "stream",
          "text": [
            "                            OLS Regression Results                            \n",
            "==============================================================================\n",
            "Dep. Variable:                      f   R-squared:                       0.004\n",
            "Model:                            OLS   Adj. R-squared:                 -0.005\n",
            "Method:                 Least Squares   F-statistic:                    0.4455\n",
            "Date:                Wed, 11 Aug 2021   Prob (F-statistic):              0.641\n",
            "Time:                        15:03:59   Log-Likelihood:                -211.23\n",
            "No. Observations:                 214   AIC:                             428.5\n",
            "Df Residuals:                     211   BIC:                             438.6\n",
            "Df Model:                           2                                         \n",
            "Covariance Type:            nonrobust                                         \n",
            "===================================================================================\n",
            "                      coef    std err          t      P>|t|      [0.025      0.975]\n",
            "-----------------------------------------------------------------------------------\n",
            "Intercept           0.5022      0.051      9.866      0.000       0.402       0.603\n",
            "C(cluster)[T.2]    -0.1140      0.146     -0.783      0.434      -0.401       0.173\n",
            "C(cluster)[T.3]     0.0581      0.138      0.421      0.674      -0.214       0.330\n",
            "==============================================================================\n",
            "Omnibus:                      301.183   Durbin-Watson:                   1.559\n",
            "Prob(Omnibus):                  0.000   Jarque-Bera (JB):            25150.440\n",
            "Skew:                           6.354   Prob(JB):                         0.00\n",
            "Kurtosis:                      54.567   Cond. No.                         3.48\n",
            "==============================================================================\n",
            "\n",
            "Warnings:\n",
            "[1] Standard Errors assume that the covariance matrix of the errors is correctly specified.\n"
          ],
          "name": "stdout"
        }
      ]
    },
    {
      "cell_type": "code",
      "metadata": {
        "colab": {
          "base_uri": "https://localhost:8080/"
        },
        "id": "3UBXmMIfJXk0",
        "outputId": "5861fedc-0201-4301-83ee-1fa4264da0cf"
      },
      "source": [
        "mc1 = multi.MultiComparison(df[\"f\"], df[\"cluster\"])\n",
        "res1 = mc1.tukeyhsd()\n",
        "print(res1.summary())"
      ],
      "execution_count": null,
      "outputs": [
        {
          "output_type": "stream",
          "text": [
            "Multiple Comparison of Means - Tukey HSD, FWER=0.05\n",
            "===================================================\n",
            "group1 group2 meandiff p-adj   lower  upper  reject\n",
            "---------------------------------------------------\n",
            "     1      2   -0.114 0.6964 -0.4575 0.2296  False\n",
            "     1      3   0.0581    0.9 -0.2675 0.3838  False\n",
            "     2      3   0.1721 0.6184 -0.2697  0.614  False\n",
            "---------------------------------------------------\n"
          ],
          "name": "stdout"
        }
      ]
    },
    {
      "cell_type": "code",
      "metadata": {
        "colab": {
          "base_uri": "https://localhost:8080/"
        },
        "id": "n1hiDtb2NbYA",
        "outputId": "296998d3-3345-4ca7-be68-ad31728c1c47"
      },
      "source": [
        "diff = smm.ols(formula='g ~ C(cluster)', data=df).fit()\n",
        "print (diff.summary())"
      ],
      "execution_count": null,
      "outputs": [
        {
          "output_type": "stream",
          "text": [
            "                            OLS Regression Results                            \n",
            "==============================================================================\n",
            "Dep. Variable:                      g   R-squared:                       0.578\n",
            "Model:                            OLS   Adj. R-squared:                  0.574\n",
            "Method:                 Least Squares   F-statistic:                     144.5\n",
            "Date:                Wed, 11 Aug 2021   Prob (F-statistic):           3.00e-40\n",
            "Time:                        15:03:59   Log-Likelihood:                -286.37\n",
            "No. Observations:                 214   AIC:                             578.7\n",
            "Df Residuals:                     211   BIC:                             588.8\n",
            "Df Model:                           2                                         \n",
            "Covariance Type:            nonrobust                                         \n",
            "===================================================================================\n",
            "                      coef    std err          t      P>|t|      [0.025      0.975]\n",
            "-----------------------------------------------------------------------------------\n",
            "Intercept           8.6058      0.072    118.998      0.000       8.463       8.748\n",
            "C(cluster)[T.2]     3.4577      0.207     16.723      0.000       3.050       3.865\n",
            "C(cluster)[T.3]    -0.1681      0.196     -0.857      0.392      -0.554       0.218\n",
            "==============================================================================\n",
            "Omnibus:                       26.344   Durbin-Watson:                   1.923\n",
            "Prob(Omnibus):                  0.000   Jarque-Bera (JB):              114.602\n",
            "Skew:                           0.277   Prob(JB):                     1.30e-25\n",
            "Kurtosis:                       6.542   Cond. No.                         3.48\n",
            "==============================================================================\n",
            "\n",
            "Warnings:\n",
            "[1] Standard Errors assume that the covariance matrix of the errors is correctly specified.\n"
          ],
          "name": "stdout"
        }
      ]
    },
    {
      "cell_type": "code",
      "metadata": {
        "colab": {
          "base_uri": "https://localhost:8080/"
        },
        "id": "edFKyAWcJbA9",
        "outputId": "ada39255-c51e-43dc-aad3-5a2c2e5bbf0e"
      },
      "source": [
        "mc1 = multi.MultiComparison(df[\"g\"], df[\"cluster\"])\n",
        "res1 = mc1.tukeyhsd()\n",
        "print(res1.summary())"
      ],
      "execution_count": null,
      "outputs": [
        {
          "output_type": "stream",
          "text": [
            "Multiple Comparison of Means - Tukey HSD, FWER=0.05 \n",
            "====================================================\n",
            "group1 group2 meandiff p-adj   lower   upper  reject\n",
            "----------------------------------------------------\n",
            "     1      2   3.4577  0.001  2.9697  3.9458   True\n",
            "     1      3  -0.1681 0.6539 -0.6308  0.2946  False\n",
            "     2      3  -3.6258  0.001 -4.2535 -2.9981   True\n",
            "----------------------------------------------------\n"
          ],
          "name": "stdout"
        }
      ]
    },
    {
      "cell_type": "code",
      "metadata": {
        "colab": {
          "base_uri": "https://localhost:8080/"
        },
        "id": "aohdAlduNfcR",
        "outputId": "d5c4b712-13a8-4e61-e5c2-6db19bdd43ce"
      },
      "source": [
        "diff = smm.ols(formula='h ~ C(cluster)', data=df).fit()\n",
        "print (diff.summary())"
      ],
      "execution_count": null,
      "outputs": [
        {
          "output_type": "stream",
          "text": [
            "                            OLS Regression Results                            \n",
            "==============================================================================\n",
            "Dep. Variable:                      h   R-squared:                       0.407\n",
            "Model:                            OLS   Adj. R-squared:                  0.401\n",
            "Method:                 Least Squares   F-statistic:                     72.28\n",
            "Date:                Wed, 11 Aug 2021   Prob (F-statistic):           1.23e-24\n",
            "Time:                        15:03:59   Log-Likelihood:                -97.790\n",
            "No. Observations:                 214   AIC:                             201.6\n",
            "Df Residuals:                     211   BIC:                             211.7\n",
            "Df Model:                           2                                         \n",
            "Covariance Type:            nonrobust                                         \n",
            "===================================================================================\n",
            "                      coef    std err          t      P>|t|      [0.025      0.975]\n",
            "-----------------------------------------------------------------------------------\n",
            "Intercept           0.0468      0.030      1.564      0.119      -0.012       0.106\n",
            "C(cluster)[T.2]     0.0901      0.086      1.052      0.294      -0.079       0.259\n",
            "C(cluster)[T.3]     0.9755      0.081     12.013      0.000       0.815       1.136\n",
            "==============================================================================\n",
            "Omnibus:                      217.830   Durbin-Watson:                   1.960\n",
            "Prob(Omnibus):                  0.000   Jarque-Bera (JB):             6279.511\n",
            "Skew:                           3.992   Prob(JB):                         0.00\n",
            "Kurtosis:                      28.308   Cond. No.                         3.48\n",
            "==============================================================================\n",
            "\n",
            "Warnings:\n",
            "[1] Standard Errors assume that the covariance matrix of the errors is correctly specified.\n"
          ],
          "name": "stdout"
        }
      ]
    },
    {
      "cell_type": "code",
      "metadata": {
        "colab": {
          "base_uri": "https://localhost:8080/"
        },
        "id": "JDBlYLQSJdCb",
        "outputId": "e27e6e3d-7f0c-476a-9b91-9271de102f9d"
      },
      "source": [
        "mc1 = multi.MultiComparison(df[\"h\"], df[\"cluster\"])\n",
        "res1 = mc1.tukeyhsd()\n",
        "print(res1.summary())"
      ],
      "execution_count": null,
      "outputs": [
        {
          "output_type": "stream",
          "text": [
            "Multiple Comparison of Means - Tukey HSD, FWER=0.05\n",
            "===================================================\n",
            "group1 group2 meandiff p-adj   lower  upper  reject\n",
            "---------------------------------------------------\n",
            "     1      2   0.0901 0.5427 -0.1121 0.2923  False\n",
            "     1      3   0.9755  0.001  0.7838 1.1671   True\n",
            "     2      3   0.8854  0.001  0.6253 1.1454   True\n",
            "---------------------------------------------------\n"
          ],
          "name": "stdout"
        }
      ]
    },
    {
      "cell_type": "code",
      "metadata": {
        "colab": {
          "base_uri": "https://localhost:8080/"
        },
        "id": "XqAMYu9yNjf0",
        "outputId": "148f0930-7e44-45bf-a211-7ad7d28cf8f1"
      },
      "source": [
        "diff = smm.ols(formula='i ~ C(cluster)', data=df).fit()\n",
        "print (diff.summary())"
      ],
      "execution_count": null,
      "outputs": [
        {
          "output_type": "stream",
          "text": [
            "                            OLS Regression Results                            \n",
            "==============================================================================\n",
            "Dep. Variable:                      i   R-squared:                       0.026\n",
            "Model:                            OLS   Adj. R-squared:                  0.017\n",
            "Method:                 Least Squares   F-statistic:                     2.805\n",
            "Date:                Wed, 11 Aug 2021   Prob (F-statistic):             0.0627\n",
            "Time:                        15:03:59   Log-Likelihood:                 197.96\n",
            "No. Observations:                 214   AIC:                            -389.9\n",
            "Df Residuals:                     211   BIC:                            -379.8\n",
            "Df Model:                           2                                         \n",
            "Covariance Type:            nonrobust                                         \n",
            "===================================================================================\n",
            "                      coef    std err          t      P>|t|      [0.025      0.975]\n",
            "-----------------------------------------------------------------------------------\n",
            "Intercept           0.0625      0.008      8.307      0.000       0.048       0.077\n",
            "C(cluster)[T.2]     0.0027      0.022      0.127      0.899      -0.040       0.045\n",
            "C(cluster)[T.3]    -0.0475      0.020     -2.329      0.021      -0.088      -0.007\n",
            "==============================================================================\n",
            "Omnibus:                       72.366   Durbin-Watson:                   1.971\n",
            "Prob(Omnibus):                  0.000   Jarque-Bera (JB):              151.003\n",
            "Skew:                           1.657   Prob(JB):                     1.62e-33\n",
            "Kurtosis:                       5.440   Cond. No.                         3.48\n",
            "==============================================================================\n",
            "\n",
            "Warnings:\n",
            "[1] Standard Errors assume that the covariance matrix of the errors is correctly specified.\n"
          ],
          "name": "stdout"
        }
      ]
    },
    {
      "cell_type": "code",
      "metadata": {
        "colab": {
          "base_uri": "https://localhost:8080/"
        },
        "id": "gskwocjgJfAw",
        "outputId": "99b0fc39-89b5-474a-b27b-1dd1a83a6c4c"
      },
      "source": [
        "mc1 = multi.MultiComparison(df[\"i\"], df[\"cluster\"])\n",
        "res1 = mc1.tukeyhsd()\n",
        "print(res1.summary())"
      ],
      "execution_count": null,
      "outputs": [
        {
          "output_type": "stream",
          "text": [
            "Multiple Comparison of Means - Tukey HSD, FWER=0.05\n",
            "===================================================\n",
            "group1 group2 meandiff p-adj   lower  upper  reject\n",
            "---------------------------------------------------\n",
            "     1      2   0.0027    0.9  -0.048 0.0535  False\n",
            "     1      3  -0.0475  0.054 -0.0956 0.0006  False\n",
            "     2      3  -0.0502 0.1671 -0.1155 0.0151  False\n",
            "---------------------------------------------------\n"
          ],
          "name": "stdout"
        }
      ]
    }
  ]
}