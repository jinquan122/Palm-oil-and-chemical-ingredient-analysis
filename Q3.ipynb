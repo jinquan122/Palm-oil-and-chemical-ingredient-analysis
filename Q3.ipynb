{
  "nbformat": 4,
  "nbformat_minor": 0,
  "metadata": {
    "colab": {
      "name": "Q3.ipynb",
      "provenance": [],
      "collapsed_sections": [],
      "mount_file_id": "14B6Kcg_BtaOOvS0cAT88je9YRLGu8jo-",
      "authorship_tag": "ABX9TyOmQOg2KxgIa6/63kyu/iVD",
      "include_colab_link": true
    },
    "kernelspec": {
      "name": "python3",
      "display_name": "Python 3"
    },
    "language_info": {
      "name": "python"
    }
  },
  "cells": [
    {
      "cell_type": "markdown",
      "metadata": {
        "id": "view-in-github",
        "colab_type": "text"
      },
      "source": [
        "<a href=\"https://colab.research.google.com/github/jinquan122/Palm-oil-and-chemical-ingredient-analysis/blob/main/Q3.ipynb\" target=\"_parent\"><img src=\"https://colab.research.google.com/assets/colab-badge.svg\" alt=\"Open In Colab\"/></a>"
      ]
    },
    {
      "cell_type": "code",
      "metadata": {
        "colab": {
          "base_uri": "https://localhost:8080/"
        },
        "id": "kPj4wSudvAKf",
        "outputId": "1540cfa1-d373-44b4-eeca-d3c09fe12007"
      },
      "source": [
        "!pip install docx2txt\n",
        "import nltk\n",
        "nltk.download('punkt')\n",
        "import docx2txt\n",
        "from nltk.tokenize import sent_tokenize\n",
        "import re"
      ],
      "execution_count": 1,
      "outputs": [
        {
          "output_type": "stream",
          "text": [
            "Requirement already satisfied: docx2txt in /usr/local/lib/python3.7/dist-packages (0.8)\n",
            "[nltk_data] Downloading package punkt to /root/nltk_data...\n",
            "[nltk_data]   Package punkt is already up-to-date!\n"
          ],
          "name": "stdout"
        }
      ]
    },
    {
      "cell_type": "code",
      "metadata": {
        "id": "c2KGZn9KQTsJ"
      },
      "source": [
        "text = docx2txt.process(\"/content/drive/MyDrive/Q3.docx\")"
      ],
      "execution_count": 2,
      "outputs": []
    },
    {
      "cell_type": "code",
      "metadata": {
        "colab": {
          "base_uri": "https://localhost:8080/",
          "height": 191
        },
        "id": "uI75bNMLvMKF",
        "outputId": "53f25301-aa0f-433e-f93d-339f4fc458d0"
      },
      "source": [
        "#lower case\n",
        "text.lower()"
      ],
      "execution_count": 3,
      "outputs": [
        {
          "output_type": "execute_result",
          "data": {
            "application/vnd.google.colaboratory.intrinsic+json": {
              "type": "string"
            },
            "text/plain": [
              "\"as a term, data analytics predominantly refers to an assortment of applications, from basic business intelligence (bi), reporting and online analytical processing (olap) to various forms of advanced analytics. in that sense, it's similar in nature to business analytics, another umbrella term for approaches to analyzing data -- with the difference that the latter is oriented to business uses, while data analytics has a broader focus. the expansive view of the term isn't universal, though: in some cases, people use data analytics specifically to mean advanced analytics, treating bi as a separate category. data analytics initiatives can help businesses increase revenues, improve operational efficiency, optimize marketing campaigns and customer service efforts, respond more quickly to emerging market trends and gain a competitive edge over rivals -- all with the ultimate goal of boosting business performance. depending on the particular application, the data that's analyzed can consist of either historical records or new information that has been processed for real-time analytics uses. in addition, it can come from a mix of internal systems and external data sources. at a high level, data analytics methodologies include exploratory data analysis (eda), which aims to find patterns and relationships in data, and confirmatory data analysis (cda), which applies statistical techniques to determine whether hypotheses about a data set are true or false. eda is often compared to detective work, while cda is akin to the work of a judge or jury during a court trial -- a distinction first drawn by statistician john w. tukey in his 1977 book exploratory data analysis. data analytics can also be separated into quantitative data analysis and qualitative data analysis. the former involves analysis of numerical data with quantifiable variables that can be compared or measured statistically. the qualitative approach is more interpretive -- it focuses on understanding the content of non-numerical data like text, images, audio and video, including common phrases, themes and points of view.\""
            ]
          },
          "metadata": {
            "tags": []
          },
          "execution_count": 3
        }
      ]
    },
    {
      "cell_type": "code",
      "metadata": {
        "id": "8vD68G8CvcI2"
      },
      "source": [
        "#Split the paragraph into sentences\n",
        "sent = nltk.tokenize.sent_tokenize(text)"
      ],
      "execution_count": 4,
      "outputs": []
    },
    {
      "cell_type": "code",
      "metadata": {
        "colab": {
          "base_uri": "https://localhost:8080/"
        },
        "id": "WiVqHmxcR7P_",
        "outputId": "7ad5b5d2-e8f1-415d-f97c-77bcc8224148"
      },
      "source": [
        "sent"
      ],
      "execution_count": 5,
      "outputs": [
        {
          "output_type": "execute_result",
          "data": {
            "text/plain": [
              "['As a term, data analytics predominantly refers to an assortment of applications, from basic business intelligence (BI), reporting and online analytical processing (OLAP) to various forms of advanced analytics.',\n",
              " \"In that sense, it's similar in nature to business analytics, another umbrella term for approaches to analyzing data -- with the difference that the latter is oriented to business uses, while data analytics has a broader focus.\",\n",
              " \"The expansive view of the term isn't universal, though: In some cases, people use data analytics specifically to mean advanced analytics, treating BI as a separate category.\",\n",
              " 'Data analytics initiatives can help businesses increase revenues, improve operational efficiency, optimize marketing campaigns and customer service efforts, respond more quickly to emerging market trends and gain a competitive edge over rivals -- all with the ultimate goal of boosting business performance.',\n",
              " \"Depending on the particular application, the data that's analyzed can consist of either historical records or new information that has been processed for real-time analytics uses.\",\n",
              " 'In addition, it can come from a mix of internal systems and external data sources.',\n",
              " 'At a high level, data analytics methodologies include exploratory data analysis (EDA), which aims to find patterns and relationships in data, and confirmatory data analysis (CDA), which applies statistical techniques to determine whether hypotheses about a data set are true or false.',\n",
              " 'EDA is often compared to detective work, while CDA is akin to the work of a judge or jury during a court trial -- a distinction first drawn by statistician John W. Tukey in his 1977 book Exploratory Data Analysis.',\n",
              " 'Data analytics can also be separated into quantitative data analysis and qualitative data analysis.',\n",
              " 'The former involves analysis of numerical data with quantifiable variables that can be compared or measured statistically.',\n",
              " 'The qualitative approach is more interpretive -- it focuses on understanding the content of non-numerical data like text, images, audio and video, including common phrases, themes and points of view.']"
            ]
          },
          "metadata": {
            "tags": []
          },
          "execution_count": 5
        }
      ]
    },
    {
      "cell_type": "code",
      "metadata": {
        "colab": {
          "base_uri": "https://localhost:8080/"
        },
        "id": "rIw8Dh5LSTAY",
        "outputId": "94b23c3b-5a7a-49bd-ddf7-bbb9cd461cb2"
      },
      "source": [
        "#Remove punctuation\n",
        "clean_text = []\n",
        "a=0\n",
        "for i in sent:\n",
        "  cleaned_sent = re.sub(r'[^\\w\\s]','', str(sent[a]).lower())\n",
        "  clean_text.append(cleaned_sent)\n",
        "  a=a+1\n",
        "\n",
        "clean_text"
      ],
      "execution_count": 6,
      "outputs": [
        {
          "output_type": "execute_result",
          "data": {
            "text/plain": [
              "['as a term data analytics predominantly refers to an assortment of applications from basic business intelligence bi reporting and online analytical processing olap to various forms of advanced analytics',\n",
              " 'in that sense its similar in nature to business analytics another umbrella term for approaches to analyzing data  with the difference that the latter is oriented to business uses while data analytics has a broader focus',\n",
              " 'the expansive view of the term isnt universal though in some cases people use data analytics specifically to mean advanced analytics treating bi as a separate category',\n",
              " 'data analytics initiatives can help businesses increase revenues improve operational efficiency optimize marketing campaigns and customer service efforts respond more quickly to emerging market trends and gain a competitive edge over rivals  all with the ultimate goal of boosting business performance',\n",
              " 'depending on the particular application the data thats analyzed can consist of either historical records or new information that has been processed for realtime analytics uses',\n",
              " 'in addition it can come from a mix of internal systems and external data sources',\n",
              " 'at a high level data analytics methodologies include exploratory data analysis eda which aims to find patterns and relationships in data and confirmatory data analysis cda which applies statistical techniques to determine whether hypotheses about a data set are true or false',\n",
              " 'eda is often compared to detective work while cda is akin to the work of a judge or jury during a court trial  a distinction first drawn by statistician john w tukey in his 1977 book exploratory data analysis',\n",
              " 'data analytics can also be separated into quantitative data analysis and qualitative data analysis',\n",
              " 'the former involves analysis of numerical data with quantifiable variables that can be compared or measured statistically',\n",
              " 'the qualitative approach is more interpretive  it focuses on understanding the content of nonnumerical data like text images audio and video including common phrases themes and points of view']"
            ]
          },
          "metadata": {
            "tags": []
          },
          "execution_count": 6
        }
      ]
    },
    {
      "cell_type": "code",
      "metadata": {
        "id": "6W8_zf4KVJEO"
      },
      "source": [
        "#To find the probability of \"data\" occur in each sentence\n",
        "a=0\n",
        "b=0\n",
        "for sen in clean_text:\n",
        "  a = a+1\n",
        "  if (\"data\" in sen):\n",
        "    b = b+1"
      ],
      "execution_count": 7,
      "outputs": []
    },
    {
      "cell_type": "code",
      "metadata": {
        "colab": {
          "base_uri": "https://localhost:8080/"
        },
        "id": "e-rYGzYLWQh4",
        "outputId": "c69b43e6-7c92-4dbb-ddca-fe238b413a81"
      },
      "source": [
        "probability = (b/a)*100\n",
        "probability"
      ],
      "execution_count": 8,
      "outputs": [
        {
          "output_type": "execute_result",
          "data": {
            "text/plain": [
              "100.0"
            ]
          },
          "metadata": {
            "tags": []
          },
          "execution_count": 8
        }
      ]
    },
    {
      "cell_type": "code",
      "metadata": {
        "colab": {
          "base_uri": "https://localhost:8080/"
        },
        "id": "IkAvTOCT-DUV",
        "outputId": "fcbf5320-7f45-4d5c-d64d-f343dceb1c09"
      },
      "source": [
        "#Remove duplicate words\n",
        "no_duplicate = []\n",
        "for i in clean_text:\n",
        "   temp = list(dict.fromkeys(i.split()))\n",
        "   temp2 = \" \".join(temp)\n",
        "   no_duplicate.append(temp2)\n",
        "   \n",
        "no_duplicate"
      ],
      "execution_count": 9,
      "outputs": [
        {
          "output_type": "execute_result",
          "data": {
            "text/plain": [
              "['as a term data analytics predominantly refers to an assortment of applications from basic business intelligence bi reporting and online analytical processing olap various forms advanced',\n",
              " 'in that sense its similar nature to business analytics another umbrella term for approaches analyzing data with the difference latter is oriented uses while has a broader focus',\n",
              " 'the expansive view of term isnt universal though in some cases people use data analytics specifically to mean advanced treating bi as a separate category',\n",
              " 'data analytics initiatives can help businesses increase revenues improve operational efficiency optimize marketing campaigns and customer service efforts respond more quickly to emerging market trends gain a competitive edge over rivals all with the ultimate goal of boosting business performance',\n",
              " 'depending on the particular application data thats analyzed can consist of either historical records or new information that has been processed for realtime analytics uses',\n",
              " 'in addition it can come from a mix of internal systems and external data sources',\n",
              " 'at a high level data analytics methodologies include exploratory analysis eda which aims to find patterns and relationships in confirmatory cda applies statistical techniques determine whether hypotheses about set are true or false',\n",
              " 'eda is often compared to detective work while cda akin the of a judge or jury during court trial distinction first drawn by statistician john w tukey in his 1977 book exploratory data analysis',\n",
              " 'data analytics can also be separated into quantitative analysis and qualitative',\n",
              " 'the former involves analysis of numerical data with quantifiable variables that can be compared or measured statistically',\n",
              " 'the qualitative approach is more interpretive it focuses on understanding content of nonnumerical data like text images audio and video including common phrases themes points view']"
            ]
          },
          "metadata": {
            "tags": []
          },
          "execution_count": 9
        }
      ]
    },
    {
      "cell_type": "code",
      "metadata": {
        "colab": {
          "base_uri": "https://localhost:8080/"
        },
        "id": "XzTRobQIASba",
        "outputId": "57d90034-67da-40ed-ca5f-06db317b09ed"
      },
      "source": [
        "no_duplicate"
      ],
      "execution_count": 10,
      "outputs": [
        {
          "output_type": "execute_result",
          "data": {
            "text/plain": [
              "['as a term data analytics predominantly refers to an assortment of applications from basic business intelligence bi reporting and online analytical processing olap various forms advanced',\n",
              " 'in that sense its similar nature to business analytics another umbrella term for approaches analyzing data with the difference latter is oriented uses while has a broader focus',\n",
              " 'the expansive view of term isnt universal though in some cases people use data analytics specifically to mean advanced treating bi as a separate category',\n",
              " 'data analytics initiatives can help businesses increase revenues improve operational efficiency optimize marketing campaigns and customer service efforts respond more quickly to emerging market trends gain a competitive edge over rivals all with the ultimate goal of boosting business performance',\n",
              " 'depending on the particular application data thats analyzed can consist of either historical records or new information that has been processed for realtime analytics uses',\n",
              " 'in addition it can come from a mix of internal systems and external data sources',\n",
              " 'at a high level data analytics methodologies include exploratory analysis eda which aims to find patterns and relationships in confirmatory cda applies statistical techniques determine whether hypotheses about set are true or false',\n",
              " 'eda is often compared to detective work while cda akin the of a judge or jury during court trial distinction first drawn by statistician john w tukey in his 1977 book exploratory data analysis',\n",
              " 'data analytics can also be separated into quantitative analysis and qualitative',\n",
              " 'the former involves analysis of numerical data with quantifiable variables that can be compared or measured statistically',\n",
              " 'the qualitative approach is more interpretive it focuses on understanding content of nonnumerical data like text images audio and video including common phrases themes points view']"
            ]
          },
          "metadata": {
            "tags": []
          },
          "execution_count": 10
        }
      ]
    },
    {
      "cell_type": "code",
      "metadata": {
        "colab": {
          "base_uri": "https://localhost:8080/"
        },
        "id": "Vp4DpaFTBedZ",
        "outputId": "9b66fdc7-7ba7-4cfd-fc90-e454dd34a4ca"
      },
      "source": [
        "#Find the total number words in each sentence\n",
        "for i in no_duplicate:\n",
        "  res = len(re.findall(r'\\w+', i))\n",
        "  print(res)"
      ],
      "execution_count": 11,
      "outputs": [
        {
          "output_type": "stream",
          "text": [
            "26\n",
            "28\n",
            "25\n",
            "40\n",
            "25\n",
            "15\n",
            "33\n",
            "34\n",
            "11\n",
            "17\n",
            "26\n"
          ],
          "name": "stdout"
        }
      ]
    },
    {
      "cell_type": "code",
      "metadata": {
        "colab": {
          "base_uri": "https://localhost:8080/",
          "height": 191
        },
        "id": "WHaWrCGEI5Ps",
        "outputId": "2b7c3a33-fe72-424a-ac6e-0b075b8389fa"
      },
      "source": [
        "#Join the cleaned sentences back into paragraph\n",
        "paragraph = \" \".join(clean_text)\n",
        "paragraph"
      ],
      "execution_count": 12,
      "outputs": [
        {
          "output_type": "execute_result",
          "data": {
            "application/vnd.google.colaboratory.intrinsic+json": {
              "type": "string"
            },
            "text/plain": [
              "'as a term data analytics predominantly refers to an assortment of applications from basic business intelligence bi reporting and online analytical processing olap to various forms of advanced analytics in that sense its similar in nature to business analytics another umbrella term for approaches to analyzing data  with the difference that the latter is oriented to business uses while data analytics has a broader focus the expansive view of the term isnt universal though in some cases people use data analytics specifically to mean advanced analytics treating bi as a separate category data analytics initiatives can help businesses increase revenues improve operational efficiency optimize marketing campaigns and customer service efforts respond more quickly to emerging market trends and gain a competitive edge over rivals  all with the ultimate goal of boosting business performance depending on the particular application the data thats analyzed can consist of either historical records or new information that has been processed for realtime analytics uses in addition it can come from a mix of internal systems and external data sources at a high level data analytics methodologies include exploratory data analysis eda which aims to find patterns and relationships in data and confirmatory data analysis cda which applies statistical techniques to determine whether hypotheses about a data set are true or false eda is often compared to detective work while cda is akin to the work of a judge or jury during a court trial  a distinction first drawn by statistician john w tukey in his 1977 book exploratory data analysis data analytics can also be separated into quantitative data analysis and qualitative data analysis the former involves analysis of numerical data with quantifiable variables that can be compared or measured statistically the qualitative approach is more interpretive  it focuses on understanding the content of nonnumerical data like text images audio and video including common phrases themes and points of view'"
            ]
          },
          "metadata": {
            "tags": []
          },
          "execution_count": 12
        }
      ]
    },
    {
      "cell_type": "code",
      "metadata": {
        "colab": {
          "base_uri": "https://localhost:8080/"
        },
        "id": "ETiMen4yHnzs",
        "outputId": "27d93b39-e0b7-4660-9bc9-40e990276a58"
      },
      "source": [
        "#Tokenize the paragraph\n",
        "tokens = nltk.word_tokenize(paragraph)\n",
        "\n",
        "#Create bigrams\n",
        "bigrm = list(nltk.bigrams(tokens))\n",
        "bigrm"
      ],
      "execution_count": 13,
      "outputs": [
        {
          "output_type": "execute_result",
          "data": {
            "text/plain": [
              "[('as', 'a'),\n",
              " ('a', 'term'),\n",
              " ('term', 'data'),\n",
              " ('data', 'analytics'),\n",
              " ('analytics', 'predominantly'),\n",
              " ('predominantly', 'refers'),\n",
              " ('refers', 'to'),\n",
              " ('to', 'an'),\n",
              " ('an', 'assortment'),\n",
              " ('assortment', 'of'),\n",
              " ('of', 'applications'),\n",
              " ('applications', 'from'),\n",
              " ('from', 'basic'),\n",
              " ('basic', 'business'),\n",
              " ('business', 'intelligence'),\n",
              " ('intelligence', 'bi'),\n",
              " ('bi', 'reporting'),\n",
              " ('reporting', 'and'),\n",
              " ('and', 'online'),\n",
              " ('online', 'analytical'),\n",
              " ('analytical', 'processing'),\n",
              " ('processing', 'olap'),\n",
              " ('olap', 'to'),\n",
              " ('to', 'various'),\n",
              " ('various', 'forms'),\n",
              " ('forms', 'of'),\n",
              " ('of', 'advanced'),\n",
              " ('advanced', 'analytics'),\n",
              " ('analytics', 'in'),\n",
              " ('in', 'that'),\n",
              " ('that', 'sense'),\n",
              " ('sense', 'its'),\n",
              " ('its', 'similar'),\n",
              " ('similar', 'in'),\n",
              " ('in', 'nature'),\n",
              " ('nature', 'to'),\n",
              " ('to', 'business'),\n",
              " ('business', 'analytics'),\n",
              " ('analytics', 'another'),\n",
              " ('another', 'umbrella'),\n",
              " ('umbrella', 'term'),\n",
              " ('term', 'for'),\n",
              " ('for', 'approaches'),\n",
              " ('approaches', 'to'),\n",
              " ('to', 'analyzing'),\n",
              " ('analyzing', 'data'),\n",
              " ('data', 'with'),\n",
              " ('with', 'the'),\n",
              " ('the', 'difference'),\n",
              " ('difference', 'that'),\n",
              " ('that', 'the'),\n",
              " ('the', 'latter'),\n",
              " ('latter', 'is'),\n",
              " ('is', 'oriented'),\n",
              " ('oriented', 'to'),\n",
              " ('to', 'business'),\n",
              " ('business', 'uses'),\n",
              " ('uses', 'while'),\n",
              " ('while', 'data'),\n",
              " ('data', 'analytics'),\n",
              " ('analytics', 'has'),\n",
              " ('has', 'a'),\n",
              " ('a', 'broader'),\n",
              " ('broader', 'focus'),\n",
              " ('focus', 'the'),\n",
              " ('the', 'expansive'),\n",
              " ('expansive', 'view'),\n",
              " ('view', 'of'),\n",
              " ('of', 'the'),\n",
              " ('the', 'term'),\n",
              " ('term', 'isnt'),\n",
              " ('isnt', 'universal'),\n",
              " ('universal', 'though'),\n",
              " ('though', 'in'),\n",
              " ('in', 'some'),\n",
              " ('some', 'cases'),\n",
              " ('cases', 'people'),\n",
              " ('people', 'use'),\n",
              " ('use', 'data'),\n",
              " ('data', 'analytics'),\n",
              " ('analytics', 'specifically'),\n",
              " ('specifically', 'to'),\n",
              " ('to', 'mean'),\n",
              " ('mean', 'advanced'),\n",
              " ('advanced', 'analytics'),\n",
              " ('analytics', 'treating'),\n",
              " ('treating', 'bi'),\n",
              " ('bi', 'as'),\n",
              " ('as', 'a'),\n",
              " ('a', 'separate'),\n",
              " ('separate', 'category'),\n",
              " ('category', 'data'),\n",
              " ('data', 'analytics'),\n",
              " ('analytics', 'initiatives'),\n",
              " ('initiatives', 'can'),\n",
              " ('can', 'help'),\n",
              " ('help', 'businesses'),\n",
              " ('businesses', 'increase'),\n",
              " ('increase', 'revenues'),\n",
              " ('revenues', 'improve'),\n",
              " ('improve', 'operational'),\n",
              " ('operational', 'efficiency'),\n",
              " ('efficiency', 'optimize'),\n",
              " ('optimize', 'marketing'),\n",
              " ('marketing', 'campaigns'),\n",
              " ('campaigns', 'and'),\n",
              " ('and', 'customer'),\n",
              " ('customer', 'service'),\n",
              " ('service', 'efforts'),\n",
              " ('efforts', 'respond'),\n",
              " ('respond', 'more'),\n",
              " ('more', 'quickly'),\n",
              " ('quickly', 'to'),\n",
              " ('to', 'emerging'),\n",
              " ('emerging', 'market'),\n",
              " ('market', 'trends'),\n",
              " ('trends', 'and'),\n",
              " ('and', 'gain'),\n",
              " ('gain', 'a'),\n",
              " ('a', 'competitive'),\n",
              " ('competitive', 'edge'),\n",
              " ('edge', 'over'),\n",
              " ('over', 'rivals'),\n",
              " ('rivals', 'all'),\n",
              " ('all', 'with'),\n",
              " ('with', 'the'),\n",
              " ('the', 'ultimate'),\n",
              " ('ultimate', 'goal'),\n",
              " ('goal', 'of'),\n",
              " ('of', 'boosting'),\n",
              " ('boosting', 'business'),\n",
              " ('business', 'performance'),\n",
              " ('performance', 'depending'),\n",
              " ('depending', 'on'),\n",
              " ('on', 'the'),\n",
              " ('the', 'particular'),\n",
              " ('particular', 'application'),\n",
              " ('application', 'the'),\n",
              " ('the', 'data'),\n",
              " ('data', 'thats'),\n",
              " ('thats', 'analyzed'),\n",
              " ('analyzed', 'can'),\n",
              " ('can', 'consist'),\n",
              " ('consist', 'of'),\n",
              " ('of', 'either'),\n",
              " ('either', 'historical'),\n",
              " ('historical', 'records'),\n",
              " ('records', 'or'),\n",
              " ('or', 'new'),\n",
              " ('new', 'information'),\n",
              " ('information', 'that'),\n",
              " ('that', 'has'),\n",
              " ('has', 'been'),\n",
              " ('been', 'processed'),\n",
              " ('processed', 'for'),\n",
              " ('for', 'realtime'),\n",
              " ('realtime', 'analytics'),\n",
              " ('analytics', 'uses'),\n",
              " ('uses', 'in'),\n",
              " ('in', 'addition'),\n",
              " ('addition', 'it'),\n",
              " ('it', 'can'),\n",
              " ('can', 'come'),\n",
              " ('come', 'from'),\n",
              " ('from', 'a'),\n",
              " ('a', 'mix'),\n",
              " ('mix', 'of'),\n",
              " ('of', 'internal'),\n",
              " ('internal', 'systems'),\n",
              " ('systems', 'and'),\n",
              " ('and', 'external'),\n",
              " ('external', 'data'),\n",
              " ('data', 'sources'),\n",
              " ('sources', 'at'),\n",
              " ('at', 'a'),\n",
              " ('a', 'high'),\n",
              " ('high', 'level'),\n",
              " ('level', 'data'),\n",
              " ('data', 'analytics'),\n",
              " ('analytics', 'methodologies'),\n",
              " ('methodologies', 'include'),\n",
              " ('include', 'exploratory'),\n",
              " ('exploratory', 'data'),\n",
              " ('data', 'analysis'),\n",
              " ('analysis', 'eda'),\n",
              " ('eda', 'which'),\n",
              " ('which', 'aims'),\n",
              " ('aims', 'to'),\n",
              " ('to', 'find'),\n",
              " ('find', 'patterns'),\n",
              " ('patterns', 'and'),\n",
              " ('and', 'relationships'),\n",
              " ('relationships', 'in'),\n",
              " ('in', 'data'),\n",
              " ('data', 'and'),\n",
              " ('and', 'confirmatory'),\n",
              " ('confirmatory', 'data'),\n",
              " ('data', 'analysis'),\n",
              " ('analysis', 'cda'),\n",
              " ('cda', 'which'),\n",
              " ('which', 'applies'),\n",
              " ('applies', 'statistical'),\n",
              " ('statistical', 'techniques'),\n",
              " ('techniques', 'to'),\n",
              " ('to', 'determine'),\n",
              " ('determine', 'whether'),\n",
              " ('whether', 'hypotheses'),\n",
              " ('hypotheses', 'about'),\n",
              " ('about', 'a'),\n",
              " ('a', 'data'),\n",
              " ('data', 'set'),\n",
              " ('set', 'are'),\n",
              " ('are', 'true'),\n",
              " ('true', 'or'),\n",
              " ('or', 'false'),\n",
              " ('false', 'eda'),\n",
              " ('eda', 'is'),\n",
              " ('is', 'often'),\n",
              " ('often', 'compared'),\n",
              " ('compared', 'to'),\n",
              " ('to', 'detective'),\n",
              " ('detective', 'work'),\n",
              " ('work', 'while'),\n",
              " ('while', 'cda'),\n",
              " ('cda', 'is'),\n",
              " ('is', 'akin'),\n",
              " ('akin', 'to'),\n",
              " ('to', 'the'),\n",
              " ('the', 'work'),\n",
              " ('work', 'of'),\n",
              " ('of', 'a'),\n",
              " ('a', 'judge'),\n",
              " ('judge', 'or'),\n",
              " ('or', 'jury'),\n",
              " ('jury', 'during'),\n",
              " ('during', 'a'),\n",
              " ('a', 'court'),\n",
              " ('court', 'trial'),\n",
              " ('trial', 'a'),\n",
              " ('a', 'distinction'),\n",
              " ('distinction', 'first'),\n",
              " ('first', 'drawn'),\n",
              " ('drawn', 'by'),\n",
              " ('by', 'statistician'),\n",
              " ('statistician', 'john'),\n",
              " ('john', 'w'),\n",
              " ('w', 'tukey'),\n",
              " ('tukey', 'in'),\n",
              " ('in', 'his'),\n",
              " ('his', '1977'),\n",
              " ('1977', 'book'),\n",
              " ('book', 'exploratory'),\n",
              " ('exploratory', 'data'),\n",
              " ('data', 'analysis'),\n",
              " ('analysis', 'data'),\n",
              " ('data', 'analytics'),\n",
              " ('analytics', 'can'),\n",
              " ('can', 'also'),\n",
              " ('also', 'be'),\n",
              " ('be', 'separated'),\n",
              " ('separated', 'into'),\n",
              " ('into', 'quantitative'),\n",
              " ('quantitative', 'data'),\n",
              " ('data', 'analysis'),\n",
              " ('analysis', 'and'),\n",
              " ('and', 'qualitative'),\n",
              " ('qualitative', 'data'),\n",
              " ('data', 'analysis'),\n",
              " ('analysis', 'the'),\n",
              " ('the', 'former'),\n",
              " ('former', 'involves'),\n",
              " ('involves', 'analysis'),\n",
              " ('analysis', 'of'),\n",
              " ('of', 'numerical'),\n",
              " ('numerical', 'data'),\n",
              " ('data', 'with'),\n",
              " ('with', 'quantifiable'),\n",
              " ('quantifiable', 'variables'),\n",
              " ('variables', 'that'),\n",
              " ('that', 'can'),\n",
              " ('can', 'be'),\n",
              " ('be', 'compared'),\n",
              " ('compared', 'or'),\n",
              " ('or', 'measured'),\n",
              " ('measured', 'statistically'),\n",
              " ('statistically', 'the'),\n",
              " ('the', 'qualitative'),\n",
              " ('qualitative', 'approach'),\n",
              " ('approach', 'is'),\n",
              " ('is', 'more'),\n",
              " ('more', 'interpretive'),\n",
              " ('interpretive', 'it'),\n",
              " ('it', 'focuses'),\n",
              " ('focuses', 'on'),\n",
              " ('on', 'understanding'),\n",
              " ('understanding', 'the'),\n",
              " ('the', 'content'),\n",
              " ('content', 'of'),\n",
              " ('of', 'nonnumerical'),\n",
              " ('nonnumerical', 'data'),\n",
              " ('data', 'like'),\n",
              " ('like', 'text'),\n",
              " ('text', 'images'),\n",
              " ('images', 'audio'),\n",
              " ('audio', 'and'),\n",
              " ('and', 'video'),\n",
              " ('video', 'including'),\n",
              " ('including', 'common'),\n",
              " ('common', 'phrases'),\n",
              " ('phrases', 'themes'),\n",
              " ('themes', 'and'),\n",
              " ('and', 'points'),\n",
              " ('points', 'of'),\n",
              " ('of', 'view')]"
            ]
          },
          "metadata": {
            "tags": []
          },
          "execution_count": 13
        }
      ]
    },
    {
      "cell_type": "code",
      "metadata": {
        "id": "CrKsbirwJIUh"
      },
      "source": [
        "#Create new dictionary for bigram\n",
        "new_dict = []\n",
        "for i in range(0,len(bigrm)):\n",
        "  if \"data\" in bigrm[i][0]:\n",
        "    new_dict.append(bigrm[i])"
      ],
      "execution_count": 14,
      "outputs": []
    },
    {
      "cell_type": "code",
      "metadata": {
        "colab": {
          "base_uri": "https://localhost:8080/"
        },
        "id": "0E2EE1QMMb6L",
        "outputId": "cf3f9b7e-cb06-4d7e-85b7-6748c32b5f83"
      },
      "source": [
        "new_dict"
      ],
      "execution_count": 15,
      "outputs": [
        {
          "output_type": "execute_result",
          "data": {
            "text/plain": [
              "[('data', 'analytics'),\n",
              " ('data', 'with'),\n",
              " ('data', 'analytics'),\n",
              " ('data', 'analytics'),\n",
              " ('data', 'analytics'),\n",
              " ('data', 'thats'),\n",
              " ('data', 'sources'),\n",
              " ('data', 'analytics'),\n",
              " ('data', 'analysis'),\n",
              " ('data', 'and'),\n",
              " ('data', 'analysis'),\n",
              " ('data', 'set'),\n",
              " ('data', 'analysis'),\n",
              " ('data', 'analytics'),\n",
              " ('data', 'analysis'),\n",
              " ('data', 'analysis'),\n",
              " ('data', 'with'),\n",
              " ('data', 'like')]"
            ]
          },
          "metadata": {
            "tags": []
          },
          "execution_count": 15
        }
      ]
    },
    {
      "cell_type": "code",
      "metadata": {
        "colab": {
          "base_uri": "https://localhost:8080/"
        },
        "id": "r_9_m-6oMpdO",
        "outputId": "01c657e4-e9b3-40f8-959a-93b37095b39c"
      },
      "source": [
        "#To find the probability\n",
        "t=0\n",
        "f=0\n",
        "for i in range(0,len(new_dict)):\n",
        "  if (\"analytics\" in new_dict[i][1]):\n",
        "    t = t + 1\n",
        "  else:\n",
        "    f = f + 1\n",
        "\n",
        "prob = (t/(f+t))*100\n",
        "print(\"Probability of the word “analytics” occurring after the word “data”:\",\"{:.2f}\".format(prob),\"%\")"
      ],
      "execution_count": 16,
      "outputs": [
        {
          "output_type": "stream",
          "text": [
            "Probability of the word “analytics” occurring after the word “data”: 33.33 %\n"
          ],
          "name": "stdout"
        }
      ]
    }
  ]
}